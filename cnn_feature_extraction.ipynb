{
  "nbformat": 4,
  "nbformat_minor": 0,
  "metadata": {
    "colab": {
      "provenance": [],
      "machine_shape": "hm",
      "gpuType": "V100"
    },
    "kernelspec": {
      "name": "python3",
      "display_name": "Python 3"
    },
    "language_info": {
      "name": "python"
    },
    "accelerator": "GPU",
    "widgets": {
      "application/vnd.jupyter.widget-state+json": {
        "f474a2425a744630b3251d26d29d161f": {
          "model_module": "@jupyter-widgets/controls",
          "model_name": "HBoxModel",
          "model_module_version": "1.5.0",
          "state": {
            "_dom_classes": [],
            "_model_module": "@jupyter-widgets/controls",
            "_model_module_version": "1.5.0",
            "_model_name": "HBoxModel",
            "_view_count": null,
            "_view_module": "@jupyter-widgets/controls",
            "_view_module_version": "1.5.0",
            "_view_name": "HBoxView",
            "box_style": "",
            "children": [
              "IPY_MODEL_26e5ded0726747e2b37535bf20c03c2e",
              "IPY_MODEL_c37c98fad45f4235aa586372bef2d8e1",
              "IPY_MODEL_c4152a35dec946a7b01aa850c2648684"
            ],
            "layout": "IPY_MODEL_ea5257be29c1456b81625ba633f8d9f5"
          }
        },
        "26e5ded0726747e2b37535bf20c03c2e": {
          "model_module": "@jupyter-widgets/controls",
          "model_name": "HTMLModel",
          "model_module_version": "1.5.0",
          "state": {
            "_dom_classes": [],
            "_model_module": "@jupyter-widgets/controls",
            "_model_module_version": "1.5.0",
            "_model_name": "HTMLModel",
            "_view_count": null,
            "_view_module": "@jupyter-widgets/controls",
            "_view_module_version": "1.5.0",
            "_view_name": "HTMLView",
            "description": "",
            "description_tooltip": null,
            "layout": "IPY_MODEL_2e7ed205c1c4480f9d8226bda058b65f",
            "placeholder": "​",
            "style": "IPY_MODEL_1b985d927aae407c86a25a9013c062c5",
            "value": "100%"
          }
        },
        "c37c98fad45f4235aa586372bef2d8e1": {
          "model_module": "@jupyter-widgets/controls",
          "model_name": "FloatProgressModel",
          "model_module_version": "1.5.0",
          "state": {
            "_dom_classes": [],
            "_model_module": "@jupyter-widgets/controls",
            "_model_module_version": "1.5.0",
            "_model_name": "FloatProgressModel",
            "_view_count": null,
            "_view_module": "@jupyter-widgets/controls",
            "_view_module_version": "1.5.0",
            "_view_name": "ProgressView",
            "bar_style": "success",
            "description": "",
            "description_tooltip": null,
            "layout": "IPY_MODEL_23eb3912286d44b0901a870955682e7a",
            "max": 165,
            "min": 0,
            "orientation": "horizontal",
            "style": "IPY_MODEL_6195f0eac41d47d590522c80be30c24c",
            "value": 165
          }
        },
        "c4152a35dec946a7b01aa850c2648684": {
          "model_module": "@jupyter-widgets/controls",
          "model_name": "HTMLModel",
          "model_module_version": "1.5.0",
          "state": {
            "_dom_classes": [],
            "_model_module": "@jupyter-widgets/controls",
            "_model_module_version": "1.5.0",
            "_model_name": "HTMLModel",
            "_view_count": null,
            "_view_module": "@jupyter-widgets/controls",
            "_view_module_version": "1.5.0",
            "_view_name": "HTMLView",
            "description": "",
            "description_tooltip": null,
            "layout": "IPY_MODEL_12d2b886498547b4a134e7812fecb8d6",
            "placeholder": "​",
            "style": "IPY_MODEL_87f45d9b339f42b1abd0272bab6d982b",
            "value": " 165/165 [00:00&lt;00:00, 2303.12it/s]"
          }
        },
        "ea5257be29c1456b81625ba633f8d9f5": {
          "model_module": "@jupyter-widgets/base",
          "model_name": "LayoutModel",
          "model_module_version": "1.2.0",
          "state": {
            "_model_module": "@jupyter-widgets/base",
            "_model_module_version": "1.2.0",
            "_model_name": "LayoutModel",
            "_view_count": null,
            "_view_module": "@jupyter-widgets/base",
            "_view_module_version": "1.2.0",
            "_view_name": "LayoutView",
            "align_content": null,
            "align_items": null,
            "align_self": null,
            "border": null,
            "bottom": null,
            "display": null,
            "flex": null,
            "flex_flow": null,
            "grid_area": null,
            "grid_auto_columns": null,
            "grid_auto_flow": null,
            "grid_auto_rows": null,
            "grid_column": null,
            "grid_gap": null,
            "grid_row": null,
            "grid_template_areas": null,
            "grid_template_columns": null,
            "grid_template_rows": null,
            "height": null,
            "justify_content": null,
            "justify_items": null,
            "left": null,
            "margin": null,
            "max_height": null,
            "max_width": null,
            "min_height": null,
            "min_width": null,
            "object_fit": null,
            "object_position": null,
            "order": null,
            "overflow": null,
            "overflow_x": null,
            "overflow_y": null,
            "padding": null,
            "right": null,
            "top": null,
            "visibility": null,
            "width": null
          }
        },
        "2e7ed205c1c4480f9d8226bda058b65f": {
          "model_module": "@jupyter-widgets/base",
          "model_name": "LayoutModel",
          "model_module_version": "1.2.0",
          "state": {
            "_model_module": "@jupyter-widgets/base",
            "_model_module_version": "1.2.0",
            "_model_name": "LayoutModel",
            "_view_count": null,
            "_view_module": "@jupyter-widgets/base",
            "_view_module_version": "1.2.0",
            "_view_name": "LayoutView",
            "align_content": null,
            "align_items": null,
            "align_self": null,
            "border": null,
            "bottom": null,
            "display": null,
            "flex": null,
            "flex_flow": null,
            "grid_area": null,
            "grid_auto_columns": null,
            "grid_auto_flow": null,
            "grid_auto_rows": null,
            "grid_column": null,
            "grid_gap": null,
            "grid_row": null,
            "grid_template_areas": null,
            "grid_template_columns": null,
            "grid_template_rows": null,
            "height": null,
            "justify_content": null,
            "justify_items": null,
            "left": null,
            "margin": null,
            "max_height": null,
            "max_width": null,
            "min_height": null,
            "min_width": null,
            "object_fit": null,
            "object_position": null,
            "order": null,
            "overflow": null,
            "overflow_x": null,
            "overflow_y": null,
            "padding": null,
            "right": null,
            "top": null,
            "visibility": null,
            "width": null
          }
        },
        "1b985d927aae407c86a25a9013c062c5": {
          "model_module": "@jupyter-widgets/controls",
          "model_name": "DescriptionStyleModel",
          "model_module_version": "1.5.0",
          "state": {
            "_model_module": "@jupyter-widgets/controls",
            "_model_module_version": "1.5.0",
            "_model_name": "DescriptionStyleModel",
            "_view_count": null,
            "_view_module": "@jupyter-widgets/base",
            "_view_module_version": "1.2.0",
            "_view_name": "StyleView",
            "description_width": ""
          }
        },
        "23eb3912286d44b0901a870955682e7a": {
          "model_module": "@jupyter-widgets/base",
          "model_name": "LayoutModel",
          "model_module_version": "1.2.0",
          "state": {
            "_model_module": "@jupyter-widgets/base",
            "_model_module_version": "1.2.0",
            "_model_name": "LayoutModel",
            "_view_count": null,
            "_view_module": "@jupyter-widgets/base",
            "_view_module_version": "1.2.0",
            "_view_name": "LayoutView",
            "align_content": null,
            "align_items": null,
            "align_self": null,
            "border": null,
            "bottom": null,
            "display": null,
            "flex": null,
            "flex_flow": null,
            "grid_area": null,
            "grid_auto_columns": null,
            "grid_auto_flow": null,
            "grid_auto_rows": null,
            "grid_column": null,
            "grid_gap": null,
            "grid_row": null,
            "grid_template_areas": null,
            "grid_template_columns": null,
            "grid_template_rows": null,
            "height": null,
            "justify_content": null,
            "justify_items": null,
            "left": null,
            "margin": null,
            "max_height": null,
            "max_width": null,
            "min_height": null,
            "min_width": null,
            "object_fit": null,
            "object_position": null,
            "order": null,
            "overflow": null,
            "overflow_x": null,
            "overflow_y": null,
            "padding": null,
            "right": null,
            "top": null,
            "visibility": null,
            "width": null
          }
        },
        "6195f0eac41d47d590522c80be30c24c": {
          "model_module": "@jupyter-widgets/controls",
          "model_name": "ProgressStyleModel",
          "model_module_version": "1.5.0",
          "state": {
            "_model_module": "@jupyter-widgets/controls",
            "_model_module_version": "1.5.0",
            "_model_name": "ProgressStyleModel",
            "_view_count": null,
            "_view_module": "@jupyter-widgets/base",
            "_view_module_version": "1.2.0",
            "_view_name": "StyleView",
            "bar_color": null,
            "description_width": ""
          }
        },
        "12d2b886498547b4a134e7812fecb8d6": {
          "model_module": "@jupyter-widgets/base",
          "model_name": "LayoutModel",
          "model_module_version": "1.2.0",
          "state": {
            "_model_module": "@jupyter-widgets/base",
            "_model_module_version": "1.2.0",
            "_model_name": "LayoutModel",
            "_view_count": null,
            "_view_module": "@jupyter-widgets/base",
            "_view_module_version": "1.2.0",
            "_view_name": "LayoutView",
            "align_content": null,
            "align_items": null,
            "align_self": null,
            "border": null,
            "bottom": null,
            "display": null,
            "flex": null,
            "flex_flow": null,
            "grid_area": null,
            "grid_auto_columns": null,
            "grid_auto_flow": null,
            "grid_auto_rows": null,
            "grid_column": null,
            "grid_gap": null,
            "grid_row": null,
            "grid_template_areas": null,
            "grid_template_columns": null,
            "grid_template_rows": null,
            "height": null,
            "justify_content": null,
            "justify_items": null,
            "left": null,
            "margin": null,
            "max_height": null,
            "max_width": null,
            "min_height": null,
            "min_width": null,
            "object_fit": null,
            "object_position": null,
            "order": null,
            "overflow": null,
            "overflow_x": null,
            "overflow_y": null,
            "padding": null,
            "right": null,
            "top": null,
            "visibility": null,
            "width": null
          }
        },
        "87f45d9b339f42b1abd0272bab6d982b": {
          "model_module": "@jupyter-widgets/controls",
          "model_name": "DescriptionStyleModel",
          "model_module_version": "1.5.0",
          "state": {
            "_model_module": "@jupyter-widgets/controls",
            "_model_module_version": "1.5.0",
            "_model_name": "DescriptionStyleModel",
            "_view_count": null,
            "_view_module": "@jupyter-widgets/base",
            "_view_module_version": "1.2.0",
            "_view_name": "StyleView",
            "description_width": ""
          }
        }
      }
    }
  },
  "cells": [
    {
      "cell_type": "markdown",
      "source": [
        "# Mount Google Drive"
      ],
      "metadata": {
        "id": "uwvOIiLb4d2Q"
      }
    },
    {
      "cell_type": "code",
      "execution_count": 1,
      "metadata": {
        "colab": {
          "base_uri": "https://localhost:8080/"
        },
        "id": "qEonzl924VM5",
        "outputId": "c7c72809-ae1b-4f3d-a46e-56242f723909"
      },
      "outputs": [
        {
          "output_type": "stream",
          "name": "stdout",
          "text": [
            "Drive already mounted at /content/drive; to attempt to forcibly remount, call drive.mount(\"/content/drive\", force_remount=True).\n"
          ]
        }
      ],
      "source": [
        "from google.colab import drive\n",
        "drive.mount('/content/drive')"
      ]
    },
    {
      "cell_type": "markdown",
      "source": [
        "# Append project path"
      ],
      "metadata": {
        "id": "79FJXjuy4hNL"
      }
    },
    {
      "cell_type": "code",
      "source": [
        "import sys\n",
        "\n",
        "PROJECT_PATH_UTIL = \"/content/drive/MyDrive/Colab Notebooks/SCVQA/util\"\n",
        "#                    /content/drive/MyDrive/.../util\n",
        "sys.path.append(PROJECT_PATH_UTIL)"
      ],
      "metadata": {
        "id": "l5K26hIK4hDC"
      },
      "execution_count": 2,
      "outputs": []
    },
    {
      "cell_type": "markdown",
      "source": [
        "# Install requirements"
      ],
      "metadata": {
        "id": "klgVVavWAbgd"
      }
    },
    {
      "cell_type": "code",
      "source": [
        "!pip install scikit-video"
      ],
      "metadata": {
        "colab": {
          "base_uri": "https://localhost:8080/"
        },
        "id": "KqLShBHJAbWP",
        "outputId": "d1ad8eea-2531-48c5-e46d-3d88ea67e04e"
      },
      "execution_count": 3,
      "outputs": [
        {
          "output_type": "stream",
          "name": "stdout",
          "text": [
            "Requirement already satisfied: scikit-video in /usr/local/lib/python3.10/dist-packages (1.1.11)\n",
            "Requirement already satisfied: numpy in /usr/local/lib/python3.10/dist-packages (from scikit-video) (1.23.5)\n",
            "Requirement already satisfied: pillow in /usr/local/lib/python3.10/dist-packages (from scikit-video) (9.4.0)\n",
            "Requirement already satisfied: scipy in /usr/local/lib/python3.10/dist-packages (from scikit-video) (1.11.4)\n"
          ]
        }
      ]
    },
    {
      "cell_type": "markdown",
      "source": [
        "# Import libraries and py script coded"
      ],
      "metadata": {
        "id": "Z48c41AQ4tjS"
      }
    },
    {
      "cell_type": "code",
      "source": [
        "import torch\n",
        "\n",
        "import pandas as pd\n",
        "import numpy as np\n",
        "\n",
        "import datetime\n",
        "from timeit import default_timer as timer\n",
        "from tqdm.auto import tqdm\n",
        "\n",
        "import zipfile\n",
        "from pathlib import Path\n",
        "import os\n",
        "import shutil\n",
        "\n",
        "from dataset import VideoDataset\n",
        "from model import ResNet50"
      ],
      "metadata": {
        "id": "x5_NK0Cc4taV"
      },
      "execution_count": 4,
      "outputs": []
    },
    {
      "cell_type": "markdown",
      "source": [
        "# Setup parameters"
      ],
      "metadata": {
        "id": "VWb6B9kt42Kc"
      }
    },
    {
      "cell_type": "code",
      "source": [
        "DATABASE = \"CSCVQ\"\n",
        "CNN_MODULE = \"ResNet50\"\n",
        "DEVICE = \"cuda\" if torch.cuda.is_available() else \"cpu\"\n",
        "FRAME_BATCH_SIZE = 10\n",
        "MAX_FRAME_SIZE = 303\n",
        "\n",
        "SOURCE_DIR = Path(f\"/content/drive/MyDrive/Colab Notebooks/SCVQA/source/{DATABASE}/\")\n",
        "#                   /content/drive/MyDrive/.../source/{DATABASE}/\n",
        "SOURCE_VIDEO_DIR = Path(f\"/content/drive/MyDrive/Colab Notebooks/SCVQA/source/{DATABASE}/videos/\")\n",
        "#                         /content/drive/MyDrive/.../source/{DATABASE}/videos/\n",
        "SOURCE_VIDEO_MOS_FILE = Path(f\"/content/drive/MyDrive/Colab Notebooks/SCVQA/source/{DATABASE}/CSCVQ1.0-MOS.xlsx\")\n",
        "#                              /content/drive/MyDrive/.../source/{DATABASE}/CSCVQ1.0-MOS.xlsx\n",
        "\n",
        "DATA_DIR = Path(f\"/content/drive/MyDrive/Colab Notebooks/SCVQA/data/{DATABASE}/\")\n",
        "#                 /content/drive/MyDrive/.../data/{DATABASE}/\n",
        "DATA_VIDEO_DIR = Path(f\"/content/drive/MyDrive/Colab Notebooks/SCVQA/data/{DATABASE}/videos/\")\n",
        "#                       /content/drive/MyDrive/.../data/{DATABASE}/videos/\n",
        "DATA_VIDEO_MOS_FILE = Path(f\"/content/drive/MyDrive/Colab Notebooks/SCVQA/data/{DATABASE}/CSCVQ1.0-MOS.xlsx\")\n",
        "#                            /content/drive/MyDrive/.../data/{DATABASE}/CSCVQ1.0-MOS.xlsx\n",
        "\n",
        "FEATURE_DIR = Path(f\"/content/drive/MyDrive/Colab Notebooks/SCVQA/feature/{DATABASE}/{CNN_MODULE}/\")\n",
        "#                    /content/drive/MyDrive/.../feature/{DATABASE}/{CNN_MODULE}/\n",
        "\n",
        "print(\n",
        "    f\"database: {DATABASE}, CNN module: {CNN_MODULE}, device: {DEVICE}, frame_batch_size: {FRAME_BATCH_SIZE}\"\n",
        ")\n",
        "\n",
        "if not os.path.exists(FEATURE_DIR):\n",
        "    FEATURE_DIR.mkdir(parents=True, exist_ok=True)\n",
        "\n",
        "if not os.path.exists(DATA_DIR) and not os.path.exists(SOURCE_DIR):\n",
        "    print(f\"No source found to be extracted in {SOURCE_DIR}\")\n",
        "    sys.exit()"
      ],
      "metadata": {
        "colab": {
          "base_uri": "https://localhost:8080/"
        },
        "id": "LQ9vXyGJ411s",
        "outputId": "eca9bee3-25c2-42a1-e713-608a0e977036"
      },
      "execution_count": 5,
      "outputs": [
        {
          "output_type": "stream",
          "name": "stdout",
          "text": [
            "database: CSCVQ, CNN module: ResNet50, device: cuda, frame_batch_size: 10\n"
          ]
        }
      ]
    },
    {
      "cell_type": "markdown",
      "source": [
        "# Extract video data and score data"
      ],
      "metadata": {
        "id": "aYhyjJ3X4_MP"
      }
    },
    {
      "cell_type": "code",
      "source": [
        "# Video\n",
        "if os.path.exists(DATA_VIDEO_DIR):\n",
        "    print(f\"Video data exists in {DATA_VIDEO_DIR}/\")\n",
        "else:\n",
        "    DATA_VIDEO_DIR.mkdir(parents=True, exist_ok=True)\n",
        "    for dir_path, dir_names, file_names in os.walk(SOURCE_VIDEO_DIR):\n",
        "        for file_name in file_names:\n",
        "            file_path = os.path.join(dir_path, file_name)\n",
        "            with zipfile.ZipFile(file_path, \"r\") as zip_ref:\n",
        "                print(f\"Unzipping {DATABASE}: {file_path}\")\n",
        "                zip_ref.extractall(DATA_VIDEO_DIR)\n",
        "\n",
        "# MOS\n",
        "if os.path.exists(DATA_VIDEO_MOS_FILE):\n",
        "    print(f\"MOS data exists in {DATA_VIDEO_MOS_FILE}\")\n",
        "else:\n",
        "    print(f\"Copying {DATABASE} MOS: {SOURCE_VIDEO_MOS_FILE}\")\n",
        "    DATA_DIR.mkdir(parents=True, exist_ok=True)\n",
        "    shutil.copyfile(SOURCE_VIDEO_MOS_FILE, DATA_VIDEO_MOS_FILE)\n",
        "\n",
        "print(f\"{DATABASE} data in: {DATA_DIR}\")"
      ],
      "metadata": {
        "colab": {
          "base_uri": "https://localhost:8080/"
        },
        "id": "7f7CwIus4-_5",
        "outputId": "9c5d214a-9c37-4299-d7c3-ea39448194e8"
      },
      "execution_count": 6,
      "outputs": [
        {
          "output_type": "stream",
          "name": "stdout",
          "text": [
            "Video data exists in /content/drive/MyDrive/Colab Notebooks/SCVQA/data/CSCVQ/videos/\n",
            "MOS data exists in /content/drive/MyDrive/Colab Notebooks/SCVQA/data/CSCVQ/CSCVQ1.0-MOS.xlsx\n",
            "CSCVQ data in: /content/drive/MyDrive/Colab Notebooks/SCVQA/data/CSCVQ\n"
          ]
        }
      ]
    },
    {
      "cell_type": "markdown",
      "source": [
        "# Prepare extraction data"
      ],
      "metadata": {
        "id": "sMYftGgr6eo5"
      }
    },
    {
      "cell_type": "code",
      "source": [
        "dataset_df = pd.read_excel(str(DATA_VIDEO_MOS_FILE), header=None)\n",
        "dataset_df = dataset_df[:-1]\n",
        "# Delete last row that contains invalid label\n",
        "\n",
        "dataset = VideoDataset(\n",
        "    video_dir=str(DATA_VIDEO_DIR),\n",
        "    height=720,\n",
        "    width=1280,\n",
        "    dataset_df=dataset_df,\n",
        "    max_frame_size=MAX_FRAME_SIZE,\n",
        ")\n",
        "print(f\"Number of video data to be extracted: {len(dataset)}\")"
      ],
      "metadata": {
        "colab": {
          "base_uri": "https://localhost:8080/"
        },
        "id": "Iur-m9o86eaQ",
        "outputId": "46411624-858f-4e3d-ec26-93807e5162f3"
      },
      "execution_count": 7,
      "outputs": [
        {
          "output_type": "stream",
          "name": "stdout",
          "text": [
            "Number of video data to be extracted: 165\n"
          ]
        }
      ]
    },
    {
      "cell_type": "markdown",
      "source": [
        "# Extract CNN features"
      ],
      "metadata": {
        "id": "oPkB4eLB6mIs"
      }
    },
    {
      "cell_type": "code",
      "source": [
        "start_time = timer()\n",
        "\n",
        "resnet50 = ResNet50().to(device=DEVICE)\n",
        "resnet50.eval()\n",
        "with torch.inference_mode():\n",
        "    for i in tqdm(range(len(dataset))):\n",
        "\n",
        "        video_name = dataset.get_video_name(i)\n",
        "        OUTPUT_DIR = Path(f\"/content/drive/MyDrive/Colab Notebooks/SCVQA/feature/{DATABASE}/{CNN_MODULE}/{video_name}\")\n",
        "        #                   /content/drive/MyDrive/.../feature/{DATABASE}/{CNN_MODULE}/{video_name}\n",
        "        if os.path.exists(OUTPUT_DIR):\n",
        "          continue\n",
        "\n",
        "        video, mos = dataset[i]\n",
        "        print(video_name)\n",
        "\n",
        "        current = 0\n",
        "        end_frame = len(video)\n",
        "\n",
        "        feature_mean = torch.Tensor().to(device=DEVICE)\n",
        "        feature_std = torch.Tensor().to(device=DEVICE)\n",
        "        cnn_feature = torch.Tensor().to(device=DEVICE)\n",
        "\n",
        "        video = video.to(device=DEVICE)\n",
        "        mos = torch.tensor(mos).to(device=DEVICE).unsqueeze(dim=0)\n",
        "\n",
        "        while current < end_frame:\n",
        "            head = current\n",
        "            tail = (\n",
        "                (head + FRAME_BATCH_SIZE)\n",
        "                if (head + FRAME_BATCH_SIZE < end_frame)\n",
        "                else end_frame\n",
        "            )\n",
        "            #print(f\"Extracting {video_name}: index[{i}] | frames[{head}, {tail-1}]\")\n",
        "            batch_frames = video[head:tail]\n",
        "\n",
        "            mean, std = resnet50(batch_frames)\n",
        "            feature_mean = torch.cat((feature_mean, mean), 0)\n",
        "            feature_std = torch.cat((feature_std, std), 0)\n",
        "\n",
        "            current += FRAME_BATCH_SIZE\n",
        "\n",
        "        cnn_feature = torch.cat((feature_mean, feature_std), 1).squeeze().cpu().numpy()\n",
        "        mos = mos.cpu().numpy()\n",
        "\n",
        "        if not os.path.exists(OUTPUT_DIR):\n",
        "            OUTPUT_DIR.mkdir(parents=True, exist_ok=True)\n",
        "            np.save(f\"{OUTPUT_DIR}/feature\", cnn_feature)\n",
        "            np.save(f\"{OUTPUT_DIR}/mos\", mos)\n",
        "end_time = timer()\n",
        "print(\n",
        "    f\"Total extraction time: {datetime.timedelta(seconds=int(end_time-start_time))} (Hour:Minute:Second)\"\n",
        ")"
      ],
      "metadata": {
        "colab": {
          "base_uri": "https://localhost:8080/",
          "height": 67,
          "referenced_widgets": [
            "f474a2425a744630b3251d26d29d161f",
            "26e5ded0726747e2b37535bf20c03c2e",
            "c37c98fad45f4235aa586372bef2d8e1",
            "c4152a35dec946a7b01aa850c2648684",
            "ea5257be29c1456b81625ba633f8d9f5",
            "2e7ed205c1c4480f9d8226bda058b65f",
            "1b985d927aae407c86a25a9013c062c5",
            "23eb3912286d44b0901a870955682e7a",
            "6195f0eac41d47d590522c80be30c24c",
            "12d2b886498547b4a134e7812fecb8d6",
            "87f45d9b339f42b1abd0272bab6d982b"
          ]
        },
        "id": "vZJadfJq6l7s",
        "outputId": "ef1ddf5d-fbae-4ad5-e610-e87158f63acc"
      },
      "execution_count": 8,
      "outputs": [
        {
          "output_type": "display_data",
          "data": {
            "text/plain": [
              "  0%|          | 0/165 [00:00<?, ?it/s]"
            ],
            "application/vnd.jupyter.widget-view+json": {
              "version_major": 2,
              "version_minor": 0,
              "model_id": "f474a2425a744630b3251d26d29d161f"
            }
          },
          "metadata": {}
        },
        {
          "output_type": "stream",
          "name": "stdout",
          "text": [
            "Total extraction time: 0:00:00 (Hour:Minute:Second)\n"
          ]
        }
      ]
    }
  ]
}