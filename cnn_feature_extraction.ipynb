{
  "nbformat": 4,
  "nbformat_minor": 0,
  "metadata": {
    "colab": {
      "provenance": [],
      "machine_shape": "hm",
      "gpuType": "A100"
    },
    "kernelspec": {
      "name": "python3",
      "display_name": "Python 3"
    },
    "language_info": {
      "name": "python"
    },
    "accelerator": "GPU",
    "widgets": {
      "application/vnd.jupyter.widget-state+json": {
        "2a645021b9904fc1af93f9c421a0cec0": {
          "model_module": "@jupyter-widgets/controls",
          "model_name": "HBoxModel",
          "model_module_version": "1.5.0",
          "state": {
            "_dom_classes": [],
            "_model_module": "@jupyter-widgets/controls",
            "_model_module_version": "1.5.0",
            "_model_name": "HBoxModel",
            "_view_count": null,
            "_view_module": "@jupyter-widgets/controls",
            "_view_module_version": "1.5.0",
            "_view_name": "HBoxView",
            "box_style": "",
            "children": [
              "IPY_MODEL_c53f4d18412d4cc2b7047ba8b9b6c35e",
              "IPY_MODEL_6b663290391a49c39abf0a8ed3611f66",
              "IPY_MODEL_0c785a91d083428e9955c798a9d3a8df"
            ],
            "layout": "IPY_MODEL_7e50f57ae65440b1a1c218758f633623"
          }
        },
        "c53f4d18412d4cc2b7047ba8b9b6c35e": {
          "model_module": "@jupyter-widgets/controls",
          "model_name": "HTMLModel",
          "model_module_version": "1.5.0",
          "state": {
            "_dom_classes": [],
            "_model_module": "@jupyter-widgets/controls",
            "_model_module_version": "1.5.0",
            "_model_name": "HTMLModel",
            "_view_count": null,
            "_view_module": "@jupyter-widgets/controls",
            "_view_module_version": "1.5.0",
            "_view_name": "HTMLView",
            "description": "",
            "description_tooltip": null,
            "layout": "IPY_MODEL_14a44b02d080475bbca99a985582f21a",
            "placeholder": "​",
            "style": "IPY_MODEL_0fb421e82f254a7c9c3d930875ab1b55",
            "value": "100%"
          }
        },
        "6b663290391a49c39abf0a8ed3611f66": {
          "model_module": "@jupyter-widgets/controls",
          "model_name": "FloatProgressModel",
          "model_module_version": "1.5.0",
          "state": {
            "_dom_classes": [],
            "_model_module": "@jupyter-widgets/controls",
            "_model_module_version": "1.5.0",
            "_model_name": "FloatProgressModel",
            "_view_count": null,
            "_view_module": "@jupyter-widgets/controls",
            "_view_module_version": "1.5.0",
            "_view_name": "ProgressView",
            "bar_style": "success",
            "description": "",
            "description_tooltip": null,
            "layout": "IPY_MODEL_d8d3aa1637654a45b397a6a2b8922dcc",
            "max": 165,
            "min": 0,
            "orientation": "horizontal",
            "style": "IPY_MODEL_1e2ce2a50b324133b9162f9df214402c",
            "value": 165
          }
        },
        "0c785a91d083428e9955c798a9d3a8df": {
          "model_module": "@jupyter-widgets/controls",
          "model_name": "HTMLModel",
          "model_module_version": "1.5.0",
          "state": {
            "_dom_classes": [],
            "_model_module": "@jupyter-widgets/controls",
            "_model_module_version": "1.5.0",
            "_model_name": "HTMLModel",
            "_view_count": null,
            "_view_module": "@jupyter-widgets/controls",
            "_view_module_version": "1.5.0",
            "_view_name": "HTMLView",
            "description": "",
            "description_tooltip": null,
            "layout": "IPY_MODEL_fb36a9e8ce624a98a2e73df871ed9961",
            "placeholder": "​",
            "style": "IPY_MODEL_e27dcec44175460c9ba2a456f8b1a880",
            "value": " 165/165 [02:06&lt;00:00,  4.61s/it]"
          }
        },
        "7e50f57ae65440b1a1c218758f633623": {
          "model_module": "@jupyter-widgets/base",
          "model_name": "LayoutModel",
          "model_module_version": "1.2.0",
          "state": {
            "_model_module": "@jupyter-widgets/base",
            "_model_module_version": "1.2.0",
            "_model_name": "LayoutModel",
            "_view_count": null,
            "_view_module": "@jupyter-widgets/base",
            "_view_module_version": "1.2.0",
            "_view_name": "LayoutView",
            "align_content": null,
            "align_items": null,
            "align_self": null,
            "border": null,
            "bottom": null,
            "display": null,
            "flex": null,
            "flex_flow": null,
            "grid_area": null,
            "grid_auto_columns": null,
            "grid_auto_flow": null,
            "grid_auto_rows": null,
            "grid_column": null,
            "grid_gap": null,
            "grid_row": null,
            "grid_template_areas": null,
            "grid_template_columns": null,
            "grid_template_rows": null,
            "height": null,
            "justify_content": null,
            "justify_items": null,
            "left": null,
            "margin": null,
            "max_height": null,
            "max_width": null,
            "min_height": null,
            "min_width": null,
            "object_fit": null,
            "object_position": null,
            "order": null,
            "overflow": null,
            "overflow_x": null,
            "overflow_y": null,
            "padding": null,
            "right": null,
            "top": null,
            "visibility": null,
            "width": null
          }
        },
        "14a44b02d080475bbca99a985582f21a": {
          "model_module": "@jupyter-widgets/base",
          "model_name": "LayoutModel",
          "model_module_version": "1.2.0",
          "state": {
            "_model_module": "@jupyter-widgets/base",
            "_model_module_version": "1.2.0",
            "_model_name": "LayoutModel",
            "_view_count": null,
            "_view_module": "@jupyter-widgets/base",
            "_view_module_version": "1.2.0",
            "_view_name": "LayoutView",
            "align_content": null,
            "align_items": null,
            "align_self": null,
            "border": null,
            "bottom": null,
            "display": null,
            "flex": null,
            "flex_flow": null,
            "grid_area": null,
            "grid_auto_columns": null,
            "grid_auto_flow": null,
            "grid_auto_rows": null,
            "grid_column": null,
            "grid_gap": null,
            "grid_row": null,
            "grid_template_areas": null,
            "grid_template_columns": null,
            "grid_template_rows": null,
            "height": null,
            "justify_content": null,
            "justify_items": null,
            "left": null,
            "margin": null,
            "max_height": null,
            "max_width": null,
            "min_height": null,
            "min_width": null,
            "object_fit": null,
            "object_position": null,
            "order": null,
            "overflow": null,
            "overflow_x": null,
            "overflow_y": null,
            "padding": null,
            "right": null,
            "top": null,
            "visibility": null,
            "width": null
          }
        },
        "0fb421e82f254a7c9c3d930875ab1b55": {
          "model_module": "@jupyter-widgets/controls",
          "model_name": "DescriptionStyleModel",
          "model_module_version": "1.5.0",
          "state": {
            "_model_module": "@jupyter-widgets/controls",
            "_model_module_version": "1.5.0",
            "_model_name": "DescriptionStyleModel",
            "_view_count": null,
            "_view_module": "@jupyter-widgets/base",
            "_view_module_version": "1.2.0",
            "_view_name": "StyleView",
            "description_width": ""
          }
        },
        "d8d3aa1637654a45b397a6a2b8922dcc": {
          "model_module": "@jupyter-widgets/base",
          "model_name": "LayoutModel",
          "model_module_version": "1.2.0",
          "state": {
            "_model_module": "@jupyter-widgets/base",
            "_model_module_version": "1.2.0",
            "_model_name": "LayoutModel",
            "_view_count": null,
            "_view_module": "@jupyter-widgets/base",
            "_view_module_version": "1.2.0",
            "_view_name": "LayoutView",
            "align_content": null,
            "align_items": null,
            "align_self": null,
            "border": null,
            "bottom": null,
            "display": null,
            "flex": null,
            "flex_flow": null,
            "grid_area": null,
            "grid_auto_columns": null,
            "grid_auto_flow": null,
            "grid_auto_rows": null,
            "grid_column": null,
            "grid_gap": null,
            "grid_row": null,
            "grid_template_areas": null,
            "grid_template_columns": null,
            "grid_template_rows": null,
            "height": null,
            "justify_content": null,
            "justify_items": null,
            "left": null,
            "margin": null,
            "max_height": null,
            "max_width": null,
            "min_height": null,
            "min_width": null,
            "object_fit": null,
            "object_position": null,
            "order": null,
            "overflow": null,
            "overflow_x": null,
            "overflow_y": null,
            "padding": null,
            "right": null,
            "top": null,
            "visibility": null,
            "width": null
          }
        },
        "1e2ce2a50b324133b9162f9df214402c": {
          "model_module": "@jupyter-widgets/controls",
          "model_name": "ProgressStyleModel",
          "model_module_version": "1.5.0",
          "state": {
            "_model_module": "@jupyter-widgets/controls",
            "_model_module_version": "1.5.0",
            "_model_name": "ProgressStyleModel",
            "_view_count": null,
            "_view_module": "@jupyter-widgets/base",
            "_view_module_version": "1.2.0",
            "_view_name": "StyleView",
            "bar_color": null,
            "description_width": ""
          }
        },
        "fb36a9e8ce624a98a2e73df871ed9961": {
          "model_module": "@jupyter-widgets/base",
          "model_name": "LayoutModel",
          "model_module_version": "1.2.0",
          "state": {
            "_model_module": "@jupyter-widgets/base",
            "_model_module_version": "1.2.0",
            "_model_name": "LayoutModel",
            "_view_count": null,
            "_view_module": "@jupyter-widgets/base",
            "_view_module_version": "1.2.0",
            "_view_name": "LayoutView",
            "align_content": null,
            "align_items": null,
            "align_self": null,
            "border": null,
            "bottom": null,
            "display": null,
            "flex": null,
            "flex_flow": null,
            "grid_area": null,
            "grid_auto_columns": null,
            "grid_auto_flow": null,
            "grid_auto_rows": null,
            "grid_column": null,
            "grid_gap": null,
            "grid_row": null,
            "grid_template_areas": null,
            "grid_template_columns": null,
            "grid_template_rows": null,
            "height": null,
            "justify_content": null,
            "justify_items": null,
            "left": null,
            "margin": null,
            "max_height": null,
            "max_width": null,
            "min_height": null,
            "min_width": null,
            "object_fit": null,
            "object_position": null,
            "order": null,
            "overflow": null,
            "overflow_x": null,
            "overflow_y": null,
            "padding": null,
            "right": null,
            "top": null,
            "visibility": null,
            "width": null
          }
        },
        "e27dcec44175460c9ba2a456f8b1a880": {
          "model_module": "@jupyter-widgets/controls",
          "model_name": "DescriptionStyleModel",
          "model_module_version": "1.5.0",
          "state": {
            "_model_module": "@jupyter-widgets/controls",
            "_model_module_version": "1.5.0",
            "_model_name": "DescriptionStyleModel",
            "_view_count": null,
            "_view_module": "@jupyter-widgets/base",
            "_view_module_version": "1.2.0",
            "_view_name": "StyleView",
            "description_width": ""
          }
        }
      }
    }
  },
  "cells": [
    {
      "cell_type": "markdown",
      "source": [
        "# Mount Google Drive"
      ],
      "metadata": {
        "id": "uwvOIiLb4d2Q"
      }
    },
    {
      "cell_type": "code",
      "execution_count": 1,
      "metadata": {
        "colab": {
          "base_uri": "https://localhost:8080/"
        },
        "id": "qEonzl924VM5",
        "outputId": "71fb73fe-49ee-4ea3-baf7-5dd46840e72f"
      },
      "outputs": [
        {
          "output_type": "stream",
          "name": "stdout",
          "text": [
            "Drive already mounted at /content/drive; to attempt to forcibly remount, call drive.mount(\"/content/drive\", force_remount=True).\n"
          ]
        }
      ],
      "source": [
        "from google.colab import drive\n",
        "drive.mount('/content/drive')"
      ]
    },
    {
      "cell_type": "markdown",
      "source": [
        "# Append project path"
      ],
      "metadata": {
        "id": "79FJXjuy4hNL"
      }
    },
    {
      "cell_type": "code",
      "source": [
        "import sys\n",
        "\n",
        "PROJECT_PATH_UTIL = \"/content/drive/MyDrive/Colab Notebooks/SCVQA/util\"\n",
        "#                    /content/drive/MyDrive/.../util\n",
        "sys.path.append(PROJECT_PATH_UTIL)"
      ],
      "metadata": {
        "id": "l5K26hIK4hDC"
      },
      "execution_count": 2,
      "outputs": []
    },
    {
      "cell_type": "markdown",
      "source": [
        "# Install requirements"
      ],
      "metadata": {
        "id": "klgVVavWAbgd"
      }
    },
    {
      "cell_type": "code",
      "source": [
        "!pip install scikit-video"
      ],
      "metadata": {
        "colab": {
          "base_uri": "https://localhost:8080/"
        },
        "id": "KqLShBHJAbWP",
        "outputId": "689499ea-c95a-44ad-e742-adb24f093657"
      },
      "execution_count": 3,
      "outputs": [
        {
          "output_type": "stream",
          "name": "stdout",
          "text": [
            "Requirement already satisfied: scikit-video in /usr/local/lib/python3.10/dist-packages (1.1.11)\n",
            "Requirement already satisfied: numpy in /usr/local/lib/python3.10/dist-packages (from scikit-video) (1.23.5)\n",
            "Requirement already satisfied: pillow in /usr/local/lib/python3.10/dist-packages (from scikit-video) (9.4.0)\n",
            "Requirement already satisfied: scipy in /usr/local/lib/python3.10/dist-packages (from scikit-video) (1.11.4)\n"
          ]
        }
      ]
    },
    {
      "cell_type": "markdown",
      "source": [
        "# Import libraries and py script coded"
      ],
      "metadata": {
        "id": "Z48c41AQ4tjS"
      }
    },
    {
      "cell_type": "code",
      "source": [
        "import torch\n",
        "\n",
        "import pandas as pd\n",
        "import numpy as np\n",
        "\n",
        "import datetime\n",
        "from timeit import default_timer as timer\n",
        "from tqdm.auto import tqdm\n",
        "\n",
        "import zipfile\n",
        "from pathlib import Path\n",
        "import os\n",
        "import shutil\n",
        "\n",
        "from dataset import VideoDataset\n",
        "from model import ResNet50"
      ],
      "metadata": {
        "id": "x5_NK0Cc4taV"
      },
      "execution_count": 4,
      "outputs": []
    },
    {
      "cell_type": "markdown",
      "source": [
        "# Setup parameters"
      ],
      "metadata": {
        "id": "VWb6B9kt42Kc"
      }
    },
    {
      "cell_type": "code",
      "source": [
        "DATABASE = \"CSCVQ\"\n",
        "CNN_MODULE = \"ResNet50\"\n",
        "DEVICE = \"cuda\" if torch.cuda.is_available() else \"cpu\"\n",
        "FRAME_BATCH_SIZE = 32\n",
        "MAX_FRAME_SIZE = 300\n",
        "\n",
        "VIDEO_HEIGHT = 720\n",
        "VIDEO_WIDTH = 1280\n",
        "\n",
        "\n",
        "SOURCE_DIR = Path(f\"/content/drive/MyDrive/Colab Notebooks/SCVQA/source/{DATABASE}/\")\n",
        "#                   /content/drive/MyDrive/.../source/{DATABASE}/\n",
        "SOURCE_VIDEO_DIR = Path(f\"/content/drive/MyDrive/Colab Notebooks/SCVQA/source/{DATABASE}/videos/\")\n",
        "#                         /content/drive/MyDrive/.../source/{DATABASE}/videos/\n",
        "SOURCE_VIDEO_MOS_FILE = Path(f\"/content/drive/MyDrive/Colab Notebooks/SCVQA/source/{DATABASE}/CSCVQ1.0-MOS.xlsx\")\n",
        "#                              /content/drive/MyDrive/.../source/{DATABASE}/CSCVQ1.0-MOS.xlsx\n",
        "\n",
        "DATA_DIR = Path(f\"/content/drive/MyDrive/Colab Notebooks/SCVQA/data/{DATABASE}/\")\n",
        "#                 /content/drive/MyDrive/.../data/{DATABASE}/\n",
        "DATA_VIDEO_DIR = Path(f\"/content/drive/MyDrive/Colab Notebooks/SCVQA/data/{DATABASE}/videos/\")\n",
        "#                       /content/drive/MyDrive/.../data/{DATABASE}/videos/\n",
        "DATA_VIDEO_MOS_FILE = Path(f\"/content/drive/MyDrive/Colab Notebooks/SCVQA/data/{DATABASE}/CSCVQ1.0-MOS.xlsx\")\n",
        "#                            /content/drive/MyDrive/.../data/{DATABASE}/CSCVQ1.0-MOS.xlsx\n",
        "\n",
        "FEATURE_DIR = Path(f\"/content/drive/MyDrive/Colab Notebooks/SCVQA/feature/{DATABASE}/{CNN_MODULE}/\")\n",
        "#                    /content/drive/MyDrive/.../feature/{DATABASE}/{CNN_MODULE}/\n",
        "\n",
        "print(\n",
        "    f\"database: {DATABASE}, CNN module: {CNN_MODULE}, device: {DEVICE}, frame_batch_size: {FRAME_BATCH_SIZE}\"\n",
        ")\n",
        "\n",
        "if not os.path.exists(FEATURE_DIR):\n",
        "    FEATURE_DIR.mkdir(parents=True, exist_ok=True)\n",
        "\n",
        "if not os.path.exists(DATA_DIR) and not os.path.exists(SOURCE_DIR):\n",
        "    print(f\"No source found to be extracted in {SOURCE_DIR}\")\n",
        "    sys.exit()"
      ],
      "metadata": {
        "colab": {
          "base_uri": "https://localhost:8080/"
        },
        "id": "LQ9vXyGJ411s",
        "outputId": "4b17f9eb-5c72-4085-a280-a5e34f8b496f"
      },
      "execution_count": 5,
      "outputs": [
        {
          "output_type": "stream",
          "name": "stdout",
          "text": [
            "database: CSCVQ, CNN module: ResNet50, device: cuda, frame_batch_size: 32\n"
          ]
        }
      ]
    },
    {
      "cell_type": "markdown",
      "source": [
        "# Extract video data and score data"
      ],
      "metadata": {
        "id": "aYhyjJ3X4_MP"
      }
    },
    {
      "cell_type": "code",
      "source": [
        "# Video\n",
        "if os.path.exists(DATA_VIDEO_DIR):\n",
        "    print(f\"Video data exists in {DATA_VIDEO_DIR}/\")\n",
        "else:\n",
        "    DATA_VIDEO_DIR.mkdir(parents=True, exist_ok=True)\n",
        "    for dir_path, dir_names, file_names in os.walk(SOURCE_VIDEO_DIR):\n",
        "        for file_name in file_names:\n",
        "            file_path = os.path.join(dir_path, file_name)\n",
        "            with zipfile.ZipFile(file_path, \"r\") as zip_ref:\n",
        "                print(f\"Unzipping {DATABASE}: {file_path}\")\n",
        "                zip_ref.extractall(DATA_VIDEO_DIR)\n",
        "\n",
        "# MOS\n",
        "if os.path.exists(DATA_VIDEO_MOS_FILE):\n",
        "    print(f\"MOS data exists in {DATA_VIDEO_MOS_FILE}\")\n",
        "else:\n",
        "    print(f\"Copying {DATABASE} MOS: {SOURCE_VIDEO_MOS_FILE}\")\n",
        "    DATA_DIR.mkdir(parents=True, exist_ok=True)\n",
        "    shutil.copyfile(SOURCE_VIDEO_MOS_FILE, DATA_VIDEO_MOS_FILE)\n",
        "\n",
        "print(f\"{DATABASE} data in: {DATA_DIR}\")"
      ],
      "metadata": {
        "colab": {
          "base_uri": "https://localhost:8080/"
        },
        "id": "7f7CwIus4-_5",
        "outputId": "41470a33-d654-4ac3-b23a-81c8c1bf34e2"
      },
      "execution_count": 6,
      "outputs": [
        {
          "output_type": "stream",
          "name": "stdout",
          "text": [
            "Video data exists in /content/drive/MyDrive/Colab Notebooks/SCVQA/data/CSCVQ/videos/\n",
            "MOS data exists in /content/drive/MyDrive/Colab Notebooks/SCVQA/data/CSCVQ/CSCVQ1.0-MOS.xlsx\n",
            "CSCVQ data in: /content/drive/MyDrive/Colab Notebooks/SCVQA/data/CSCVQ\n"
          ]
        }
      ]
    },
    {
      "cell_type": "markdown",
      "source": [
        "# Prepare extraction data"
      ],
      "metadata": {
        "id": "sMYftGgr6eo5"
      }
    },
    {
      "cell_type": "code",
      "source": [
        "dataset_df = pd.read_excel(str(DATA_VIDEO_MOS_FILE), header=None)\n",
        "dataset_df = dataset_df[:-1]\n",
        "# Delete last row that contains invalid label\n",
        "\n",
        "dataset = VideoDataset(\n",
        "    video_dir=str(DATA_VIDEO_DIR),\n",
        "    height=VIDEO_HEIGHT,\n",
        "    width=VIDEO_WIDTH,\n",
        "    dataset_df=dataset_df,\n",
        "    max_frame_size=MAX_FRAME_SIZE,\n",
        ")\n",
        "print(f\"Number of video data to be extracted: {len(dataset)}\")"
      ],
      "metadata": {
        "colab": {
          "base_uri": "https://localhost:8080/"
        },
        "id": "Iur-m9o86eaQ",
        "outputId": "9b4fa12e-dd7e-4a2c-89d3-b364d0f23148"
      },
      "execution_count": 7,
      "outputs": [
        {
          "output_type": "stream",
          "name": "stdout",
          "text": [
            "Number of video data to be extracted: 165\n"
          ]
        }
      ]
    },
    {
      "cell_type": "markdown",
      "source": [
        "# Extract CNN features"
      ],
      "metadata": {
        "id": "oPkB4eLB6mIs"
      }
    },
    {
      "cell_type": "code",
      "source": [
        "start_time = timer()\n",
        "\n",
        "resnet50 = ResNet50().to(device=DEVICE)\n",
        "resnet50.eval()\n",
        "with torch.inference_mode():\n",
        "    for i in tqdm(range(len(dataset))):\n",
        "        video_name, _ = dataset.get_video_info(i)\n",
        "\n",
        "        OUTPUT_DIR = Path(f\"/content/drive/MyDrive/Colab Notebooks/SCVQA/feature/{DATABASE}/{CNN_MODULE}/{video_name}\")\n",
        "        #                   /content/drive/MyDrive/.../feature/{DATABASE}/{CNN_MODULE}/{video_name}\n",
        "        if os.path.exists(OUTPUT_DIR):\n",
        "          continue\n",
        "\n",
        "        video, mos = dataset[i]\n",
        "\n",
        "        current = 0\n",
        "        end_frame = len(video)\n",
        "\n",
        "        video = video.to(device=DEVICE)\n",
        "\n",
        "        feature_mean = torch.Tensor().to(device=DEVICE)\n",
        "        feature_std = torch.Tensor().to(device=DEVICE)\n",
        "        cnn_feature = torch.Tensor().to(device=DEVICE)\n",
        "\n",
        "        while current < end_frame:\n",
        "            head = current\n",
        "            tail = (\n",
        "                (head + FRAME_BATCH_SIZE)\n",
        "                if (head + FRAME_BATCH_SIZE < end_frame)\n",
        "                else end_frame\n",
        "            )\n",
        "            print(f\"Extracting {video_name}: index[{i}] | frames[{head}, {tail-1}]\")\n",
        "            batch_frames = video[head:tail]\n",
        "\n",
        "            mean, std = resnet50(batch_frames)\n",
        "            feature_mean = torch.cat((feature_mean, mean), 0)\n",
        "            feature_std = torch.cat((feature_std, std), 0)\n",
        "\n",
        "            current += FRAME_BATCH_SIZE\n",
        "\n",
        "        cnn_feature = (\n",
        "            torch.cat((feature_mean, feature_std), 1).squeeze().numpy(force=True)\n",
        "            if torch.cuda.is_available()\n",
        "            else torch.cat((feature_mean, feature_std), 1).squeeze().numpy()\n",
        "        )\n",
        "\n",
        "        if not os.path.exists(OUTPUT_DIR):\n",
        "            OUTPUT_DIR.mkdir(parents=True, exist_ok=True)\n",
        "            np.save(f\"{OUTPUT_DIR}/feature\", cnn_feature)\n",
        "            np.save(f\"{OUTPUT_DIR}/mos\", mos)\n",
        "end_time = timer()\n",
        "print(\n",
        "    f\"Total extraction time: {datetime.timedelta(seconds=int(end_time-start_time))} (Hour:Minute:Second)\"\n",
        ")"
      ],
      "metadata": {
        "colab": {
          "base_uri": "https://localhost:8080/",
          "height": 1000,
          "referenced_widgets": [
            "2a645021b9904fc1af93f9c421a0cec0",
            "c53f4d18412d4cc2b7047ba8b9b6c35e",
            "6b663290391a49c39abf0a8ed3611f66",
            "0c785a91d083428e9955c798a9d3a8df",
            "7e50f57ae65440b1a1c218758f633623",
            "14a44b02d080475bbca99a985582f21a",
            "0fb421e82f254a7c9c3d930875ab1b55",
            "d8d3aa1637654a45b397a6a2b8922dcc",
            "1e2ce2a50b324133b9162f9df214402c",
            "fb36a9e8ce624a98a2e73df871ed9961",
            "e27dcec44175460c9ba2a456f8b1a880"
          ]
        },
        "id": "vZJadfJq6l7s",
        "outputId": "fc75d5ff-9dd3-40dd-8cc1-e71221b15cca"
      },
      "execution_count": 8,
      "outputs": [
        {
          "output_type": "display_data",
          "data": {
            "text/plain": [
              "  0%|          | 0/165 [00:00<?, ?it/s]"
            ],
            "application/vnd.jupyter.widget-view+json": {
              "version_major": 2,
              "version_minor": 0,
              "model_id": "2a645021b9904fc1af93f9c421a0cec0"
            }
          },
          "metadata": {}
        },
        {
          "output_type": "stream",
          "name": "stdout",
          "text": [
            "Extracting sc_slideShow_1280x720_30_8bit_420_300f_QP24.yuv: index[155] | frames[0, 31]\n",
            "Extracting sc_slideShow_1280x720_30_8bit_420_300f_QP24.yuv: index[155] | frames[32, 63]\n",
            "Extracting sc_slideShow_1280x720_30_8bit_420_300f_QP24.yuv: index[155] | frames[64, 95]\n",
            "Extracting sc_slideShow_1280x720_30_8bit_420_300f_QP24.yuv: index[155] | frames[96, 127]\n",
            "Extracting sc_slideShow_1280x720_30_8bit_420_300f_QP24.yuv: index[155] | frames[128, 159]\n",
            "Extracting sc_slideShow_1280x720_30_8bit_420_300f_QP24.yuv: index[155] | frames[160, 191]\n",
            "Extracting sc_slideShow_1280x720_30_8bit_420_300f_QP24.yuv: index[155] | frames[192, 223]\n",
            "Extracting sc_slideShow_1280x720_30_8bit_420_300f_QP24.yuv: index[155] | frames[224, 255]\n",
            "Extracting sc_slideShow_1280x720_30_8bit_420_300f_QP24.yuv: index[155] | frames[256, 287]\n",
            "Extracting sc_slideShow_1280x720_30_8bit_420_300f_QP24.yuv: index[155] | frames[288, 299]\n",
            "Extracting sc_slideShow_1280x720_30_8bit_420_300f_QP30.yuv: index[156] | frames[0, 31]\n",
            "Extracting sc_slideShow_1280x720_30_8bit_420_300f_QP30.yuv: index[156] | frames[32, 63]\n",
            "Extracting sc_slideShow_1280x720_30_8bit_420_300f_QP30.yuv: index[156] | frames[64, 95]\n",
            "Extracting sc_slideShow_1280x720_30_8bit_420_300f_QP30.yuv: index[156] | frames[96, 127]\n",
            "Extracting sc_slideShow_1280x720_30_8bit_420_300f_QP30.yuv: index[156] | frames[128, 159]\n",
            "Extracting sc_slideShow_1280x720_30_8bit_420_300f_QP30.yuv: index[156] | frames[160, 191]\n",
            "Extracting sc_slideShow_1280x720_30_8bit_420_300f_QP30.yuv: index[156] | frames[192, 223]\n",
            "Extracting sc_slideShow_1280x720_30_8bit_420_300f_QP30.yuv: index[156] | frames[224, 255]\n",
            "Extracting sc_slideShow_1280x720_30_8bit_420_300f_QP30.yuv: index[156] | frames[256, 287]\n",
            "Extracting sc_slideShow_1280x720_30_8bit_420_300f_QP30.yuv: index[156] | frames[288, 299]\n",
            "Extracting sc_slideShow_1280x720_30_8bit_420_300f_QP36.yuv: index[157] | frames[0, 31]\n",
            "Extracting sc_slideShow_1280x720_30_8bit_420_300f_QP36.yuv: index[157] | frames[32, 63]\n",
            "Extracting sc_slideShow_1280x720_30_8bit_420_300f_QP36.yuv: index[157] | frames[64, 95]\n",
            "Extracting sc_slideShow_1280x720_30_8bit_420_300f_QP36.yuv: index[157] | frames[96, 127]\n",
            "Extracting sc_slideShow_1280x720_30_8bit_420_300f_QP36.yuv: index[157] | frames[128, 159]\n",
            "Extracting sc_slideShow_1280x720_30_8bit_420_300f_QP36.yuv: index[157] | frames[160, 191]\n",
            "Extracting sc_slideShow_1280x720_30_8bit_420_300f_QP36.yuv: index[157] | frames[192, 223]\n",
            "Extracting sc_slideShow_1280x720_30_8bit_420_300f_QP36.yuv: index[157] | frames[224, 255]\n",
            "Extracting sc_slideShow_1280x720_30_8bit_420_300f_QP36.yuv: index[157] | frames[256, 287]\n",
            "Extracting sc_slideShow_1280x720_30_8bit_420_300f_QP36.yuv: index[157] | frames[288, 299]\n",
            "Extracting sc_slideShow_1280x720_30_8bit_420_300f_QP42.yuv: index[158] | frames[0, 31]\n",
            "Extracting sc_slideShow_1280x720_30_8bit_420_300f_QP42.yuv: index[158] | frames[32, 63]\n",
            "Extracting sc_slideShow_1280x720_30_8bit_420_300f_QP42.yuv: index[158] | frames[64, 95]\n",
            "Extracting sc_slideShow_1280x720_30_8bit_420_300f_QP42.yuv: index[158] | frames[96, 127]\n",
            "Extracting sc_slideShow_1280x720_30_8bit_420_300f_QP42.yuv: index[158] | frames[128, 159]\n",
            "Extracting sc_slideShow_1280x720_30_8bit_420_300f_QP42.yuv: index[158] | frames[160, 191]\n",
            "Extracting sc_slideShow_1280x720_30_8bit_420_300f_QP42.yuv: index[158] | frames[192, 223]\n",
            "Extracting sc_slideShow_1280x720_30_8bit_420_300f_QP42.yuv: index[158] | frames[224, 255]\n",
            "Extracting sc_slideShow_1280x720_30_8bit_420_300f_QP42.yuv: index[158] | frames[256, 287]\n",
            "Extracting sc_slideShow_1280x720_30_8bit_420_300f_QP42.yuv: index[158] | frames[288, 299]\n",
            "Extracting sc_slideShow_1280x720_30_8bit_420_300f_QP48.yuv: index[159] | frames[0, 31]\n",
            "Extracting sc_slideShow_1280x720_30_8bit_420_300f_QP48.yuv: index[159] | frames[32, 63]\n",
            "Extracting sc_slideShow_1280x720_30_8bit_420_300f_QP48.yuv: index[159] | frames[64, 95]\n",
            "Extracting sc_slideShow_1280x720_30_8bit_420_300f_QP48.yuv: index[159] | frames[96, 127]\n",
            "Extracting sc_slideShow_1280x720_30_8bit_420_300f_QP48.yuv: index[159] | frames[128, 159]\n",
            "Extracting sc_slideShow_1280x720_30_8bit_420_300f_QP48.yuv: index[159] | frames[160, 191]\n",
            "Extracting sc_slideShow_1280x720_30_8bit_420_300f_QP48.yuv: index[159] | frames[192, 223]\n",
            "Extracting sc_slideShow_1280x720_30_8bit_420_300f_QP48.yuv: index[159] | frames[224, 255]\n",
            "Extracting sc_slideShow_1280x720_30_8bit_420_300f_QP48.yuv: index[159] | frames[256, 287]\n",
            "Extracting sc_slideShow_1280x720_30_8bit_420_300f_QP48.yuv: index[159] | frames[288, 299]\n",
            "Extracting sc_slideShow_1280x720_30_8bit_420_300f_SCCQP24.yuv: index[160] | frames[0, 31]\n",
            "Extracting sc_slideShow_1280x720_30_8bit_420_300f_SCCQP24.yuv: index[160] | frames[32, 63]\n",
            "Extracting sc_slideShow_1280x720_30_8bit_420_300f_SCCQP24.yuv: index[160] | frames[64, 95]\n",
            "Extracting sc_slideShow_1280x720_30_8bit_420_300f_SCCQP24.yuv: index[160] | frames[96, 127]\n",
            "Extracting sc_slideShow_1280x720_30_8bit_420_300f_SCCQP24.yuv: index[160] | frames[128, 159]\n",
            "Extracting sc_slideShow_1280x720_30_8bit_420_300f_SCCQP24.yuv: index[160] | frames[160, 191]\n",
            "Extracting sc_slideShow_1280x720_30_8bit_420_300f_SCCQP24.yuv: index[160] | frames[192, 223]\n",
            "Extracting sc_slideShow_1280x720_30_8bit_420_300f_SCCQP24.yuv: index[160] | frames[224, 255]\n",
            "Extracting sc_slideShow_1280x720_30_8bit_420_300f_SCCQP24.yuv: index[160] | frames[256, 287]\n",
            "Extracting sc_slideShow_1280x720_30_8bit_420_300f_SCCQP24.yuv: index[160] | frames[288, 299]\n",
            "Extracting sc_slideShow_1280x720_30_8bit_420_300f_SCCQP30.yuv: index[161] | frames[0, 31]\n",
            "Extracting sc_slideShow_1280x720_30_8bit_420_300f_SCCQP30.yuv: index[161] | frames[32, 63]\n",
            "Extracting sc_slideShow_1280x720_30_8bit_420_300f_SCCQP30.yuv: index[161] | frames[64, 95]\n",
            "Extracting sc_slideShow_1280x720_30_8bit_420_300f_SCCQP30.yuv: index[161] | frames[96, 127]\n",
            "Extracting sc_slideShow_1280x720_30_8bit_420_300f_SCCQP30.yuv: index[161] | frames[128, 159]\n",
            "Extracting sc_slideShow_1280x720_30_8bit_420_300f_SCCQP30.yuv: index[161] | frames[160, 191]\n",
            "Extracting sc_slideShow_1280x720_30_8bit_420_300f_SCCQP30.yuv: index[161] | frames[192, 223]\n",
            "Extracting sc_slideShow_1280x720_30_8bit_420_300f_SCCQP30.yuv: index[161] | frames[224, 255]\n",
            "Extracting sc_slideShow_1280x720_30_8bit_420_300f_SCCQP30.yuv: index[161] | frames[256, 287]\n",
            "Extracting sc_slideShow_1280x720_30_8bit_420_300f_SCCQP30.yuv: index[161] | frames[288, 299]\n",
            "Extracting sc_slideShow_1280x720_30_8bit_420_300f_SCCQP36.yuv: index[162] | frames[0, 31]\n",
            "Extracting sc_slideShow_1280x720_30_8bit_420_300f_SCCQP36.yuv: index[162] | frames[32, 63]\n",
            "Extracting sc_slideShow_1280x720_30_8bit_420_300f_SCCQP36.yuv: index[162] | frames[64, 95]\n",
            "Extracting sc_slideShow_1280x720_30_8bit_420_300f_SCCQP36.yuv: index[162] | frames[96, 127]\n",
            "Extracting sc_slideShow_1280x720_30_8bit_420_300f_SCCQP36.yuv: index[162] | frames[128, 159]\n",
            "Extracting sc_slideShow_1280x720_30_8bit_420_300f_SCCQP36.yuv: index[162] | frames[160, 191]\n",
            "Extracting sc_slideShow_1280x720_30_8bit_420_300f_SCCQP36.yuv: index[162] | frames[192, 223]\n",
            "Extracting sc_slideShow_1280x720_30_8bit_420_300f_SCCQP36.yuv: index[162] | frames[224, 255]\n",
            "Extracting sc_slideShow_1280x720_30_8bit_420_300f_SCCQP36.yuv: index[162] | frames[256, 287]\n",
            "Extracting sc_slideShow_1280x720_30_8bit_420_300f_SCCQP36.yuv: index[162] | frames[288, 299]\n",
            "Extracting sc_slideShow_1280x720_30_8bit_420_300f_SCCQP42.yuv: index[163] | frames[0, 31]\n",
            "Extracting sc_slideShow_1280x720_30_8bit_420_300f_SCCQP42.yuv: index[163] | frames[32, 63]\n",
            "Extracting sc_slideShow_1280x720_30_8bit_420_300f_SCCQP42.yuv: index[163] | frames[64, 95]\n",
            "Extracting sc_slideShow_1280x720_30_8bit_420_300f_SCCQP42.yuv: index[163] | frames[96, 127]\n",
            "Extracting sc_slideShow_1280x720_30_8bit_420_300f_SCCQP42.yuv: index[163] | frames[128, 159]\n",
            "Extracting sc_slideShow_1280x720_30_8bit_420_300f_SCCQP42.yuv: index[163] | frames[160, 191]\n",
            "Extracting sc_slideShow_1280x720_30_8bit_420_300f_SCCQP42.yuv: index[163] | frames[192, 223]\n",
            "Extracting sc_slideShow_1280x720_30_8bit_420_300f_SCCQP42.yuv: index[163] | frames[224, 255]\n",
            "Extracting sc_slideShow_1280x720_30_8bit_420_300f_SCCQP42.yuv: index[163] | frames[256, 287]\n",
            "Extracting sc_slideShow_1280x720_30_8bit_420_300f_SCCQP42.yuv: index[163] | frames[288, 299]\n",
            "Extracting sc_slideShow_1280x720_30_8bit_420_300f_SCCQP48.yuv: index[164] | frames[0, 31]\n",
            "Extracting sc_slideShow_1280x720_30_8bit_420_300f_SCCQP48.yuv: index[164] | frames[32, 63]\n",
            "Extracting sc_slideShow_1280x720_30_8bit_420_300f_SCCQP48.yuv: index[164] | frames[64, 95]\n",
            "Extracting sc_slideShow_1280x720_30_8bit_420_300f_SCCQP48.yuv: index[164] | frames[96, 127]\n",
            "Extracting sc_slideShow_1280x720_30_8bit_420_300f_SCCQP48.yuv: index[164] | frames[128, 159]\n",
            "Extracting sc_slideShow_1280x720_30_8bit_420_300f_SCCQP48.yuv: index[164] | frames[160, 191]\n",
            "Extracting sc_slideShow_1280x720_30_8bit_420_300f_SCCQP48.yuv: index[164] | frames[192, 223]\n",
            "Extracting sc_slideShow_1280x720_30_8bit_420_300f_SCCQP48.yuv: index[164] | frames[224, 255]\n",
            "Extracting sc_slideShow_1280x720_30_8bit_420_300f_SCCQP48.yuv: index[164] | frames[256, 287]\n",
            "Extracting sc_slideShow_1280x720_30_8bit_420_300f_SCCQP48.yuv: index[164] | frames[288, 299]\n",
            "Total extraction time: 0:02:06 (Hour:Minute:Second)\n"
          ]
        }
      ]
    }
  ]
}