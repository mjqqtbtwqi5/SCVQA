{
  "nbformat": 4,
  "nbformat_minor": 0,
  "metadata": {
    "colab": {
      "provenance": [],
      "gpuType": "T4"
    },
    "kernelspec": {
      "name": "python3",
      "display_name": "Python 3"
    },
    "language_info": {
      "name": "python"
    },
    "accelerator": "GPU",
    "widgets": {
      "application/vnd.jupyter.widget-state+json": {
        "b2cf3e3d8a7b497da5b8af940d81d2c0": {
          "model_module": "@jupyter-widgets/controls",
          "model_name": "HBoxModel",
          "model_module_version": "1.5.0",
          "state": {
            "_dom_classes": [],
            "_model_module": "@jupyter-widgets/controls",
            "_model_module_version": "1.5.0",
            "_model_name": "HBoxModel",
            "_view_count": null,
            "_view_module": "@jupyter-widgets/controls",
            "_view_module_version": "1.5.0",
            "_view_name": "HBoxView",
            "box_style": "",
            "children": [
              "IPY_MODEL_3aef2ca8eea4489bbbbef5195bfc9b35",
              "IPY_MODEL_19c4c00d05c4448e8da1b3c0d6b1ab14",
              "IPY_MODEL_1623fd1d887a4b1a865c98dfad6565a3"
            ],
            "layout": "IPY_MODEL_fda82290afc74ab396d6b8072366f7d5"
          }
        },
        "3aef2ca8eea4489bbbbef5195bfc9b35": {
          "model_module": "@jupyter-widgets/controls",
          "model_name": "HTMLModel",
          "model_module_version": "1.5.0",
          "state": {
            "_dom_classes": [],
            "_model_module": "@jupyter-widgets/controls",
            "_model_module_version": "1.5.0",
            "_model_name": "HTMLModel",
            "_view_count": null,
            "_view_module": "@jupyter-widgets/controls",
            "_view_module_version": "1.5.0",
            "_view_name": "HTMLView",
            "description": "",
            "description_tooltip": null,
            "layout": "IPY_MODEL_58ea292b7e8e4689b477ba244b52f066",
            "placeholder": "​",
            "style": "IPY_MODEL_2920b05d6fa043158fd2107c630a534d",
            "value": "100%"
          }
        },
        "19c4c00d05c4448e8da1b3c0d6b1ab14": {
          "model_module": "@jupyter-widgets/controls",
          "model_name": "FloatProgressModel",
          "model_module_version": "1.5.0",
          "state": {
            "_dom_classes": [],
            "_model_module": "@jupyter-widgets/controls",
            "_model_module_version": "1.5.0",
            "_model_name": "FloatProgressModel",
            "_view_count": null,
            "_view_module": "@jupyter-widgets/controls",
            "_view_module_version": "1.5.0",
            "_view_name": "ProgressView",
            "bar_style": "success",
            "description": "",
            "description_tooltip": null,
            "layout": "IPY_MODEL_4623536a4dfa4c098e910d9513078071",
            "max": 100,
            "min": 0,
            "orientation": "horizontal",
            "style": "IPY_MODEL_694869ae08494c74a729d1fb0029cdb8",
            "value": 100
          }
        },
        "1623fd1d887a4b1a865c98dfad6565a3": {
          "model_module": "@jupyter-widgets/controls",
          "model_name": "HTMLModel",
          "model_module_version": "1.5.0",
          "state": {
            "_dom_classes": [],
            "_model_module": "@jupyter-widgets/controls",
            "_model_module_version": "1.5.0",
            "_model_name": "HTMLModel",
            "_view_count": null,
            "_view_module": "@jupyter-widgets/controls",
            "_view_module_version": "1.5.0",
            "_view_name": "HTMLView",
            "description": "",
            "description_tooltip": null,
            "layout": "IPY_MODEL_0ac4e6e70df1429fba523af978814ae5",
            "placeholder": "​",
            "style": "IPY_MODEL_7c6f20f07dca44d99ab5d19fdaaf54ba",
            "value": " 100/100 [00:49&lt;00:00,  2.19it/s]"
          }
        },
        "fda82290afc74ab396d6b8072366f7d5": {
          "model_module": "@jupyter-widgets/base",
          "model_name": "LayoutModel",
          "model_module_version": "1.2.0",
          "state": {
            "_model_module": "@jupyter-widgets/base",
            "_model_module_version": "1.2.0",
            "_model_name": "LayoutModel",
            "_view_count": null,
            "_view_module": "@jupyter-widgets/base",
            "_view_module_version": "1.2.0",
            "_view_name": "LayoutView",
            "align_content": null,
            "align_items": null,
            "align_self": null,
            "border": null,
            "bottom": null,
            "display": null,
            "flex": null,
            "flex_flow": null,
            "grid_area": null,
            "grid_auto_columns": null,
            "grid_auto_flow": null,
            "grid_auto_rows": null,
            "grid_column": null,
            "grid_gap": null,
            "grid_row": null,
            "grid_template_areas": null,
            "grid_template_columns": null,
            "grid_template_rows": null,
            "height": null,
            "justify_content": null,
            "justify_items": null,
            "left": null,
            "margin": null,
            "max_height": null,
            "max_width": null,
            "min_height": null,
            "min_width": null,
            "object_fit": null,
            "object_position": null,
            "order": null,
            "overflow": null,
            "overflow_x": null,
            "overflow_y": null,
            "padding": null,
            "right": null,
            "top": null,
            "visibility": null,
            "width": null
          }
        },
        "58ea292b7e8e4689b477ba244b52f066": {
          "model_module": "@jupyter-widgets/base",
          "model_name": "LayoutModel",
          "model_module_version": "1.2.0",
          "state": {
            "_model_module": "@jupyter-widgets/base",
            "_model_module_version": "1.2.0",
            "_model_name": "LayoutModel",
            "_view_count": null,
            "_view_module": "@jupyter-widgets/base",
            "_view_module_version": "1.2.0",
            "_view_name": "LayoutView",
            "align_content": null,
            "align_items": null,
            "align_self": null,
            "border": null,
            "bottom": null,
            "display": null,
            "flex": null,
            "flex_flow": null,
            "grid_area": null,
            "grid_auto_columns": null,
            "grid_auto_flow": null,
            "grid_auto_rows": null,
            "grid_column": null,
            "grid_gap": null,
            "grid_row": null,
            "grid_template_areas": null,
            "grid_template_columns": null,
            "grid_template_rows": null,
            "height": null,
            "justify_content": null,
            "justify_items": null,
            "left": null,
            "margin": null,
            "max_height": null,
            "max_width": null,
            "min_height": null,
            "min_width": null,
            "object_fit": null,
            "object_position": null,
            "order": null,
            "overflow": null,
            "overflow_x": null,
            "overflow_y": null,
            "padding": null,
            "right": null,
            "top": null,
            "visibility": null,
            "width": null
          }
        },
        "2920b05d6fa043158fd2107c630a534d": {
          "model_module": "@jupyter-widgets/controls",
          "model_name": "DescriptionStyleModel",
          "model_module_version": "1.5.0",
          "state": {
            "_model_module": "@jupyter-widgets/controls",
            "_model_module_version": "1.5.0",
            "_model_name": "DescriptionStyleModel",
            "_view_count": null,
            "_view_module": "@jupyter-widgets/base",
            "_view_module_version": "1.2.0",
            "_view_name": "StyleView",
            "description_width": ""
          }
        },
        "4623536a4dfa4c098e910d9513078071": {
          "model_module": "@jupyter-widgets/base",
          "model_name": "LayoutModel",
          "model_module_version": "1.2.0",
          "state": {
            "_model_module": "@jupyter-widgets/base",
            "_model_module_version": "1.2.0",
            "_model_name": "LayoutModel",
            "_view_count": null,
            "_view_module": "@jupyter-widgets/base",
            "_view_module_version": "1.2.0",
            "_view_name": "LayoutView",
            "align_content": null,
            "align_items": null,
            "align_self": null,
            "border": null,
            "bottom": null,
            "display": null,
            "flex": null,
            "flex_flow": null,
            "grid_area": null,
            "grid_auto_columns": null,
            "grid_auto_flow": null,
            "grid_auto_rows": null,
            "grid_column": null,
            "grid_gap": null,
            "grid_row": null,
            "grid_template_areas": null,
            "grid_template_columns": null,
            "grid_template_rows": null,
            "height": null,
            "justify_content": null,
            "justify_items": null,
            "left": null,
            "margin": null,
            "max_height": null,
            "max_width": null,
            "min_height": null,
            "min_width": null,
            "object_fit": null,
            "object_position": null,
            "order": null,
            "overflow": null,
            "overflow_x": null,
            "overflow_y": null,
            "padding": null,
            "right": null,
            "top": null,
            "visibility": null,
            "width": null
          }
        },
        "694869ae08494c74a729d1fb0029cdb8": {
          "model_module": "@jupyter-widgets/controls",
          "model_name": "ProgressStyleModel",
          "model_module_version": "1.5.0",
          "state": {
            "_model_module": "@jupyter-widgets/controls",
            "_model_module_version": "1.5.0",
            "_model_name": "ProgressStyleModel",
            "_view_count": null,
            "_view_module": "@jupyter-widgets/base",
            "_view_module_version": "1.2.0",
            "_view_name": "StyleView",
            "bar_color": null,
            "description_width": ""
          }
        },
        "0ac4e6e70df1429fba523af978814ae5": {
          "model_module": "@jupyter-widgets/base",
          "model_name": "LayoutModel",
          "model_module_version": "1.2.0",
          "state": {
            "_model_module": "@jupyter-widgets/base",
            "_model_module_version": "1.2.0",
            "_model_name": "LayoutModel",
            "_view_count": null,
            "_view_module": "@jupyter-widgets/base",
            "_view_module_version": "1.2.0",
            "_view_name": "LayoutView",
            "align_content": null,
            "align_items": null,
            "align_self": null,
            "border": null,
            "bottom": null,
            "display": null,
            "flex": null,
            "flex_flow": null,
            "grid_area": null,
            "grid_auto_columns": null,
            "grid_auto_flow": null,
            "grid_auto_rows": null,
            "grid_column": null,
            "grid_gap": null,
            "grid_row": null,
            "grid_template_areas": null,
            "grid_template_columns": null,
            "grid_template_rows": null,
            "height": null,
            "justify_content": null,
            "justify_items": null,
            "left": null,
            "margin": null,
            "max_height": null,
            "max_width": null,
            "min_height": null,
            "min_width": null,
            "object_fit": null,
            "object_position": null,
            "order": null,
            "overflow": null,
            "overflow_x": null,
            "overflow_y": null,
            "padding": null,
            "right": null,
            "top": null,
            "visibility": null,
            "width": null
          }
        },
        "7c6f20f07dca44d99ab5d19fdaaf54ba": {
          "model_module": "@jupyter-widgets/controls",
          "model_name": "DescriptionStyleModel",
          "model_module_version": "1.5.0",
          "state": {
            "_model_module": "@jupyter-widgets/controls",
            "_model_module_version": "1.5.0",
            "_model_name": "DescriptionStyleModel",
            "_view_count": null,
            "_view_module": "@jupyter-widgets/base",
            "_view_module_version": "1.2.0",
            "_view_name": "StyleView",
            "description_width": ""
          }
        }
      }
    }
  },
  "cells": [
    {
      "cell_type": "markdown",
      "source": [
        "# Mount Google Drive"
      ],
      "metadata": {
        "id": "uRXpIJ0q6d1J"
      }
    },
    {
      "cell_type": "code",
      "execution_count": 1,
      "metadata": {
        "colab": {
          "base_uri": "https://localhost:8080/"
        },
        "id": "NR2PT9Ya0InI",
        "outputId": "89037dcb-aae2-49bf-b5af-376b4430bf32"
      },
      "outputs": [
        {
          "output_type": "stream",
          "name": "stdout",
          "text": [
            "Drive already mounted at /content/drive; to attempt to forcibly remount, call drive.mount(\"/content/drive\", force_remount=True).\n"
          ]
        }
      ],
      "source": [
        "from google.colab import drive\n",
        "drive.mount('/content/drive')"
      ]
    },
    {
      "cell_type": "markdown",
      "source": [
        "# Append project path"
      ],
      "metadata": {
        "id": "wNxdwvmP6iLD"
      }
    },
    {
      "cell_type": "code",
      "source": [
        "import sys\n",
        "\n",
        "PROJECT_PATH_UTIL = \"/content/drive/MyDrive/Colab Notebooks/SCVQA/util\"\n",
        "#                    /content/drive/MyDrive/.../util\n",
        "sys.path.append(PROJECT_PATH_UTIL)"
      ],
      "metadata": {
        "id": "2r3bOPsO6h_K"
      },
      "execution_count": 2,
      "outputs": []
    },
    {
      "cell_type": "markdown",
      "source": [
        "# Install requirements"
      ],
      "metadata": {
        "id": "6AfNotnR6sdd"
      }
    },
    {
      "cell_type": "code",
      "source": [
        "!pip install av scikit-video"
      ],
      "metadata": {
        "colab": {
          "base_uri": "https://localhost:8080/"
        },
        "id": "9J5pLsoq6sEZ",
        "outputId": "92be603c-e4e4-4b91-ba20-c8c9557444b1"
      },
      "execution_count": 3,
      "outputs": [
        {
          "output_type": "stream",
          "name": "stdout",
          "text": [
            "Requirement already satisfied: av in /usr/local/lib/python3.10/dist-packages (11.0.0)\n",
            "Requirement already satisfied: scikit-video in /usr/local/lib/python3.10/dist-packages (1.1.11)\n",
            "Requirement already satisfied: numpy in /usr/local/lib/python3.10/dist-packages (from scikit-video) (1.23.5)\n",
            "Requirement already satisfied: pillow in /usr/local/lib/python3.10/dist-packages (from scikit-video) (9.4.0)\n",
            "Requirement already satisfied: scipy in /usr/local/lib/python3.10/dist-packages (from scikit-video) (1.11.4)\n"
          ]
        }
      ]
    },
    {
      "cell_type": "markdown",
      "source": [
        "# Import libraries and py script coded"
      ],
      "metadata": {
        "id": "G3EidBIl6r2A"
      }
    },
    {
      "cell_type": "code",
      "source": [
        "import torch\n",
        "from torch import nn\n",
        "from torch.utils.data import DataLoader\n",
        "\n",
        "import os\n",
        "import numpy as np\n",
        "from pathlib import Path\n",
        "import datetime\n",
        "from timeit import default_timer as timer\n",
        "\n",
        "import sys\n",
        "\n",
        "from dataset import FeatureDataset\n",
        "from model import SCVQA\n",
        "from engine import Engine"
      ],
      "metadata": {
        "id": "Ao2BfgxX67XI"
      },
      "execution_count": 4,
      "outputs": []
    },
    {
      "cell_type": "markdown",
      "source": [
        "# Setup parameters"
      ],
      "metadata": {
        "id": "MMBiBWgb7NwO"
      }
    },
    {
      "cell_type": "code",
      "source": [
        "DATABASE = \"CSCVQ\"\n",
        "CNN_MODULE = \"ResNet50\"\n",
        "DEVICE = \"cuda\" if torch.cuda.is_available() else \"cpu\"\n",
        "BATCH_SIZE = 1\n",
        "# NUM_WORKERS = os.cpu_count()\n",
        "NUM_WORKERS = 0\n",
        "NUM_EPOCHS = 100\n",
        "SEED = 22035001\n",
        "\n",
        "FEATURE_DIR = Path(f\"/content/drive/MyDrive/Colab Notebooks/SCVQA/feature/{DATABASE}/{CNN_MODULE}/\")\n",
        "#                    /content/drive/MyDrive/.../feature/{DATABASE}/{CNN_MODULE}/\n",
        "\n",
        "print(\n",
        "    f\"database: {DATABASE}, CNN module: {CNN_MODULE}, device: {DEVICE}, batch_size: {BATCH_SIZE}, num_workers: {NUM_WORKERS}, num_epochs: {NUM_EPOCHS}, seed: {SEED}\"\n",
        ")"
      ],
      "metadata": {
        "colab": {
          "base_uri": "https://localhost:8080/"
        },
        "id": "Hq9HOS2V7NIm",
        "outputId": "f8d38d4b-ea95-4a3a-9d66-095fd8ddbedf"
      },
      "execution_count": 5,
      "outputs": [
        {
          "output_type": "stream",
          "name": "stdout",
          "text": [
            "database: CSCVQ, CNN module: ResNet50, device: cuda, batch_size: 1, num_workers: 0, num_epochs: 100, seed: 22035001\n"
          ]
        }
      ]
    },
    {
      "cell_type": "markdown",
      "source": [
        "# Data preparation"
      ],
      "metadata": {
        "id": "KnoXLGKJ7rqi"
      }
    },
    {
      "cell_type": "code",
      "source": [
        "feature_data_list = list()\n",
        "\n",
        "if not os.path.exists(FEATURE_DIR):\n",
        "    print(f\"Video feature not exists in {FEATURE_DIR}/\")\n",
        "    sys.exit()\n",
        "else:\n",
        "    count = 0\n",
        "    os.scandir(FEATURE_DIR)\n",
        "    video_feature_dir_list = [f.path for f in os.scandir(FEATURE_DIR) if f.is_dir()]\n",
        "\n",
        "    for video_feature_dir in video_feature_dir_list:\n",
        "        feature_file = f\"{video_feature_dir}/feature.npy\"\n",
        "        mos_file = f\"{video_feature_dir}/mos.npy\"\n",
        "\n",
        "        feature = np.load(feature_file)\n",
        "        feature = torch.from_numpy(feature).to(device=DEVICE)\n",
        "        # [frames, feature] | Tensor | torch.Size([300, 4096])\n",
        "\n",
        "        mos = np.load(mos_file)\n",
        "        mos = torch.from_numpy(mos).to(device=DEVICE).squeeze()\n",
        "        # mos | Tensor | torch.Size([])\n",
        "\n",
        "        feature_data_list.append((feature, mos))\n",
        "\n",
        "TRAIN_SPLIT = int(0.8 * len(feature_data_list))\n",
        "train_data_list = feature_data_list[:TRAIN_SPLIT]\n",
        "test_data_list = feature_data_list[TRAIN_SPLIT:]\n",
        "\n",
        "train_dataset = FeatureDataset(dataset=train_data_list)\n",
        "test_dataset = FeatureDataset(dataset=test_data_list)\n",
        "\n",
        "train_dataloader = DataLoader(\n",
        "    dataset=train_dataset,\n",
        "    batch_size=BATCH_SIZE,\n",
        "    num_workers=NUM_WORKERS,\n",
        "    shuffle=True,\n",
        ")\n",
        "test_dataloader = DataLoader(\n",
        "    dataset=test_dataset,\n",
        "    batch_size=BATCH_SIZE,\n",
        "    num_workers=NUM_WORKERS,\n",
        "    shuffle=False,\n",
        ")\n",
        "\n",
        "print(\n",
        "    f\"Number of training data: {len(train_dataset)} & testing data: {len(test_dataset)}\"\n",
        ")"
      ],
      "metadata": {
        "colab": {
          "base_uri": "https://localhost:8080/"
        },
        "id": "pnlqpFH379k5",
        "outputId": "69321038-dd58-4738-bdd1-5f38b7897dc4"
      },
      "execution_count": 6,
      "outputs": [
        {
          "output_type": "stream",
          "name": "stdout",
          "text": [
            "Number of training data: 132 & testing data: 33\n"
          ]
        }
      ]
    },
    {
      "cell_type": "markdown",
      "source": [
        "# Training and testing step"
      ],
      "metadata": {
        "id": "qsfPOm8M8DbY"
      }
    },
    {
      "cell_type": "code",
      "source": [
        "torch.manual_seed(SEED)\n",
        "torch.cuda.manual_seed(SEED)\n",
        "\n",
        "model = SCVQA().to(device=DEVICE)\n",
        "\n",
        "loss_fn = nn.L1Loss()\n",
        "optimizer = torch.optim.Adam(params=model.parameters(), lr=0.001)\n",
        "\n",
        "engine = Engine(device=DEVICE, epochs=NUM_EPOCHS)\n",
        "\n",
        "start_time = timer()\n",
        "model_results = engine.train(\n",
        "    model=model,\n",
        "    optimizer=optimizer,\n",
        "    loss_fn=loss_fn,\n",
        "    train_dataloader=train_dataloader,\n",
        "    test_dataloader=test_dataloader,\n",
        ")\n",
        "end_time = timer()\n",
        "print(\n",
        "    f\"Total training time: {datetime.timedelta(seconds=int(end_time-start_time))} (Hour:Minute:Second)\"\n",
        ")\n",
        "# print(model_results)\n",
        "print(\n",
        "    f\"Total number of epochs: {NUM_EPOCHS} - Total number of results: {len(model_results['train_loss'])}\"\n",
        ")"
      ],
      "metadata": {
        "colab": {
          "base_uri": "https://localhost:8080/",
          "height": 1000,
          "referenced_widgets": [
            "b2cf3e3d8a7b497da5b8af940d81d2c0",
            "3aef2ca8eea4489bbbbef5195bfc9b35",
            "19c4c00d05c4448e8da1b3c0d6b1ab14",
            "1623fd1d887a4b1a865c98dfad6565a3",
            "fda82290afc74ab396d6b8072366f7d5",
            "58ea292b7e8e4689b477ba244b52f066",
            "2920b05d6fa043158fd2107c630a534d",
            "4623536a4dfa4c098e910d9513078071",
            "694869ae08494c74a729d1fb0029cdb8",
            "0ac4e6e70df1429fba523af978814ae5",
            "7c6f20f07dca44d99ab5d19fdaaf54ba"
          ]
        },
        "id": "BcmFrV918DMT",
        "outputId": "33957529-9d9c-4c65-be62-300a852c29e8"
      },
      "execution_count": 7,
      "outputs": [
        {
          "output_type": "display_data",
          "data": {
            "text/plain": [
              "  0%|          | 0/100 [00:00<?, ?it/s]"
            ],
            "application/vnd.jupyter.widget-view+json": {
              "version_major": 2,
              "version_minor": 0,
              "model_id": "b2cf3e3d8a7b497da5b8af940d81d2c0"
            }
          },
          "metadata": {}
        },
        {
          "output_type": "stream",
          "name": "stdout",
          "text": [
            "[Training] Epoch: 1 | MAE loss: 48.0480 | PCC: -0.0438 | SROCC: -0.0710\n",
            "[Testing]  Epoch: 1 | MAE loss: 44.7575 | PCC: -0.0275 | SROCC: -0.0463\n",
            "[Training] Epoch: 2 | MAE loss: 44.7571 | PCC: 0.0945 | SROCC: 0.0744\n",
            "[Testing]  Epoch: 2 | MAE loss: 41.6206 | PCC: -0.0275 | SROCC: -0.0463\n",
            "[Training] Epoch: 3 | MAE loss: 41.6499 | PCC: -0.0613 | SROCC: -0.0718\n",
            "[Testing]  Epoch: 3 | MAE loss: 38.5327 | PCC: -0.0275 | SROCC: -0.0463\n",
            "[Training] Epoch: 4 | MAE loss: 38.5717 | PCC: 0.0341 | SROCC: 0.0424\n",
            "[Testing]  Epoch: 4 | MAE loss: 35.4621 | PCC: -0.0275 | SROCC: -0.0463\n",
            "[Training] Epoch: 5 | MAE loss: 35.5059 | PCC: 0.1214 | SROCC: 0.1066\n",
            "[Testing]  Epoch: 5 | MAE loss: 32.4004 | PCC: -0.0275 | SROCC: -0.0463\n",
            "[Training] Epoch: 6 | MAE loss: 32.4471 | PCC: 0.2464 | SROCC: 0.2763\n",
            "[Testing]  Epoch: 6 | MAE loss: 29.3442 | PCC: -0.0275 | SROCC: -0.0463\n",
            "[Training] Epoch: 7 | MAE loss: 29.4223 | PCC: 0.0255 | SROCC: 0.0364\n",
            "[Testing]  Epoch: 7 | MAE loss: 26.4502 | PCC: -0.0275 | SROCC: -0.0463\n",
            "[Training] Epoch: 8 | MAE loss: 26.5911 | PCC: -0.1718 | SROCC: -0.1477\n",
            "[Testing]  Epoch: 8 | MAE loss: 23.9267 | PCC: -0.0275 | SROCC: -0.0463\n",
            "[Training] Epoch: 9 | MAE loss: 24.1949 | PCC: -0.1062 | SROCC: -0.1261\n",
            "[Testing]  Epoch: 9 | MAE loss: 22.0231 | PCC: -0.0275 | SROCC: -0.0463\n",
            "[Training] Epoch: 10 | MAE loss: 22.2853 | PCC: 0.0092 | SROCC: -0.0017\n",
            "[Testing]  Epoch: 10 | MAE loss: 20.3027 | PCC: -0.0275 | SROCC: -0.0463\n",
            "[Training] Epoch: 11 | MAE loss: 20.7172 | PCC: -0.0642 | SROCC: -0.0541\n",
            "[Testing]  Epoch: 11 | MAE loss: 18.6913 | PCC: -0.0275 | SROCC: -0.0463\n",
            "[Training] Epoch: 12 | MAE loss: 19.4051 | PCC: -0.1010 | SROCC: -0.1014\n",
            "[Testing]  Epoch: 12 | MAE loss: 17.4053 | PCC: -0.0275 | SROCC: -0.0463\n",
            "[Training] Epoch: 13 | MAE loss: 18.2658 | PCC: -0.0183 | SROCC: -0.0028\n",
            "[Testing]  Epoch: 13 | MAE loss: 16.2539 | PCC: -0.0275 | SROCC: -0.0463\n",
            "[Training] Epoch: 14 | MAE loss: 17.2279 | PCC: 0.1002 | SROCC: 0.1256\n",
            "[Testing]  Epoch: 14 | MAE loss: 15.1314 | PCC: -0.0275 | SROCC: -0.0463\n",
            "[Training] Epoch: 15 | MAE loss: 16.2952 | PCC: -0.1248 | SROCC: -0.0922\n",
            "[Testing]  Epoch: 15 | MAE loss: 14.1594 | PCC: -0.0275 | SROCC: -0.0463\n",
            "[Training] Epoch: 16 | MAE loss: 15.5183 | PCC: -0.0407 | SROCC: -0.0422\n",
            "[Testing]  Epoch: 16 | MAE loss: 13.5496 | PCC: -0.0275 | SROCC: -0.0463\n",
            "[Training] Epoch: 17 | MAE loss: 14.8707 | PCC: 0.0670 | SROCC: 0.0591\n",
            "[Testing]  Epoch: 17 | MAE loss: 12.9877 | PCC: -0.0275 | SROCC: -0.0463\n",
            "[Training] Epoch: 18 | MAE loss: 14.3452 | PCC: 0.0983 | SROCC: 0.0913\n",
            "[Testing]  Epoch: 18 | MAE loss: 12.5854 | PCC: -0.0275 | SROCC: -0.0463\n",
            "[Training] Epoch: 19 | MAE loss: 13.9354 | PCC: 0.1072 | SROCC: 0.1148\n",
            "[Testing]  Epoch: 19 | MAE loss: 12.2875 | PCC: -0.0275 | SROCC: -0.0463\n",
            "[Training] Epoch: 20 | MAE loss: 13.6034 | PCC: 0.0007 | SROCC: 0.0319\n",
            "[Testing]  Epoch: 20 | MAE loss: 12.0917 | PCC: -0.0275 | SROCC: -0.0463\n",
            "[Training] Epoch: 21 | MAE loss: 13.3272 | PCC: 0.0731 | SROCC: 0.1129\n",
            "[Testing]  Epoch: 21 | MAE loss: 11.9673 | PCC: -0.0275 | SROCC: -0.0463\n",
            "[Training] Epoch: 22 | MAE loss: 13.0763 | PCC: 0.0802 | SROCC: 0.0925\n",
            "[Testing]  Epoch: 22 | MAE loss: 11.9318 | PCC: -0.0275 | SROCC: -0.0463\n",
            "[Training] Epoch: 23 | MAE loss: 12.8266 | PCC: -0.0786 | SROCC: -0.0587\n",
            "[Testing]  Epoch: 23 | MAE loss: 11.9042 | PCC: -0.0275 | SROCC: -0.0463\n",
            "[Training] Epoch: 24 | MAE loss: 12.6119 | PCC: 0.1492 | SROCC: 0.1580\n",
            "[Testing]  Epoch: 24 | MAE loss: 11.8810 | PCC: -0.0275 | SROCC: -0.0463\n",
            "[Training] Epoch: 25 | MAE loss: 12.4371 | PCC: 0.0930 | SROCC: 0.0842\n",
            "[Testing]  Epoch: 25 | MAE loss: 11.8779 | PCC: -0.0275 | SROCC: -0.0463\n",
            "[Training] Epoch: 26 | MAE loss: 12.2723 | PCC: -0.0146 | SROCC: 0.0059\n",
            "[Testing]  Epoch: 26 | MAE loss: 11.8987 | PCC: -0.0275 | SROCC: -0.0463\n",
            "[Training] Epoch: 27 | MAE loss: 12.1480 | PCC: -0.0952 | SROCC: -0.0740\n",
            "[Testing]  Epoch: 27 | MAE loss: 11.9178 | PCC: -0.0275 | SROCC: -0.0463\n",
            "[Training] Epoch: 28 | MAE loss: 12.0462 | PCC: 0.0790 | SROCC: 0.0312\n",
            "[Testing]  Epoch: 28 | MAE loss: 11.9316 | PCC: -0.0275 | SROCC: -0.0463\n",
            "[Training] Epoch: 29 | MAE loss: 11.9540 | PCC: -0.0553 | SROCC: -0.0542\n",
            "[Testing]  Epoch: 29 | MAE loss: 11.9490 | PCC: -0.0275 | SROCC: -0.0463\n",
            "[Training] Epoch: 30 | MAE loss: 11.8870 | PCC: -0.1562 | SROCC: -0.1598\n",
            "[Testing]  Epoch: 30 | MAE loss: 11.9641 | PCC: -0.0275 | SROCC: -0.0463\n",
            "[Training] Epoch: 31 | MAE loss: 11.8182 | PCC: -0.0304 | SROCC: -0.0723\n",
            "[Testing]  Epoch: 31 | MAE loss: 11.9954 | PCC: -0.0275 | SROCC: -0.0463\n",
            "[Training] Epoch: 32 | MAE loss: 11.7453 | PCC: -0.1894 | SROCC: -0.2396\n",
            "[Testing]  Epoch: 32 | MAE loss: 12.0199 | PCC: -0.0275 | SROCC: -0.0463\n",
            "[Training] Epoch: 33 | MAE loss: 11.6904 | PCC: -0.0568 | SROCC: -0.0771\n",
            "[Testing]  Epoch: 33 | MAE loss: 12.0702 | PCC: -0.0275 | SROCC: -0.0463\n",
            "[Training] Epoch: 34 | MAE loss: 11.6555 | PCC: -0.0222 | SROCC: -0.0606\n",
            "[Testing]  Epoch: 34 | MAE loss: 12.1194 | PCC: -0.0275 | SROCC: -0.0463\n",
            "[Training] Epoch: 35 | MAE loss: 11.6470 | PCC: -0.0938 | SROCC: -0.1842\n",
            "[Testing]  Epoch: 35 | MAE loss: 12.1342 | PCC: -0.0275 | SROCC: -0.0463\n",
            "[Training] Epoch: 36 | MAE loss: 11.6459 | PCC: -0.0635 | SROCC: -0.0954\n",
            "[Testing]  Epoch: 36 | MAE loss: 12.1594 | PCC: -0.0275 | SROCC: -0.0463\n",
            "[Training] Epoch: 37 | MAE loss: 11.6385 | PCC: -0.1279 | SROCC: -0.1490\n",
            "[Testing]  Epoch: 37 | MAE loss: 12.1646 | PCC: -0.0275 | SROCC: -0.0463\n",
            "[Training] Epoch: 38 | MAE loss: 11.6416 | PCC: -0.1309 | SROCC: -0.1040\n",
            "[Testing]  Epoch: 38 | MAE loss: 12.2111 | PCC: -0.0275 | SROCC: -0.0463\n",
            "[Training] Epoch: 39 | MAE loss: 11.6532 | PCC: -0.1737 | SROCC: -0.1549\n",
            "[Testing]  Epoch: 39 | MAE loss: 12.2125 | PCC: -0.0275 | SROCC: -0.0463\n",
            "[Training] Epoch: 40 | MAE loss: 11.6330 | PCC: -0.0532 | SROCC: -0.0870\n",
            "[Testing]  Epoch: 40 | MAE loss: 12.2440 | PCC: -0.0275 | SROCC: -0.0463\n",
            "[Training] Epoch: 41 | MAE loss: 11.6374 | PCC: -0.2006 | SROCC: -0.2125\n",
            "[Testing]  Epoch: 41 | MAE loss: 12.2437 | PCC: -0.0275 | SROCC: -0.0463\n",
            "[Training] Epoch: 42 | MAE loss: 11.6311 | PCC: -0.1618 | SROCC: -0.1590\n",
            "[Testing]  Epoch: 42 | MAE loss: 12.2622 | PCC: -0.0275 | SROCC: -0.0463\n",
            "[Training] Epoch: 43 | MAE loss: 11.6276 | PCC: -0.2537 | SROCC: -0.2529\n",
            "[Testing]  Epoch: 43 | MAE loss: 12.2900 | PCC: -0.0275 | SROCC: -0.0463\n",
            "[Training] Epoch: 44 | MAE loss: 11.6324 | PCC: -0.2179 | SROCC: -0.2389\n",
            "[Testing]  Epoch: 44 | MAE loss: 12.2939 | PCC: -0.0275 | SROCC: -0.0463\n",
            "[Training] Epoch: 45 | MAE loss: 11.6263 | PCC: -0.2456 | SROCC: -0.2503\n",
            "[Testing]  Epoch: 45 | MAE loss: 12.3163 | PCC: -0.0275 | SROCC: -0.0463\n",
            "[Training] Epoch: 46 | MAE loss: 11.6283 | PCC: -0.0618 | SROCC: -0.0843\n",
            "[Testing]  Epoch: 46 | MAE loss: 12.2849 | PCC: -0.0275 | SROCC: -0.0463\n",
            "[Training] Epoch: 47 | MAE loss: 11.6220 | PCC: -0.0493 | SROCC: -0.1068\n",
            "[Testing]  Epoch: 47 | MAE loss: 12.2981 | PCC: -0.0275 | SROCC: -0.0463\n",
            "[Training] Epoch: 48 | MAE loss: 11.6258 | PCC: -0.2133 | SROCC: -0.1670\n",
            "[Testing]  Epoch: 48 | MAE loss: 12.3000 | PCC: -0.0275 | SROCC: -0.0463\n",
            "[Training] Epoch: 49 | MAE loss: 11.6235 | PCC: -0.0704 | SROCC: -0.1071\n",
            "[Testing]  Epoch: 49 | MAE loss: 12.3036 | PCC: -0.0275 | SROCC: -0.0463\n",
            "[Training] Epoch: 50 | MAE loss: 11.6292 | PCC: -0.1464 | SROCC: -0.1136\n",
            "[Testing]  Epoch: 50 | MAE loss: 12.3125 | PCC: -0.0275 | SROCC: -0.0463\n",
            "[Training] Epoch: 51 | MAE loss: 11.6225 | PCC: -0.0102 | SROCC: -0.0485\n",
            "[Testing]  Epoch: 51 | MAE loss: 12.3066 | PCC: -0.0275 | SROCC: -0.0463\n",
            "[Training] Epoch: 52 | MAE loss: 11.6299 | PCC: -0.1491 | SROCC: -0.1485\n",
            "[Testing]  Epoch: 52 | MAE loss: 12.3247 | PCC: -0.0275 | SROCC: -0.0463\n",
            "[Training] Epoch: 53 | MAE loss: 11.6280 | PCC: -0.2045 | SROCC: -0.2106\n",
            "[Testing]  Epoch: 53 | MAE loss: 12.3088 | PCC: -0.0275 | SROCC: -0.0463\n",
            "[Training] Epoch: 54 | MAE loss: 11.6289 | PCC: -0.1246 | SROCC: -0.1468\n",
            "[Testing]  Epoch: 54 | MAE loss: 12.3114 | PCC: -0.0275 | SROCC: -0.0463\n",
            "[Training] Epoch: 55 | MAE loss: 11.6268 | PCC: -0.1468 | SROCC: -0.1252\n",
            "[Testing]  Epoch: 55 | MAE loss: 12.3004 | PCC: -0.0275 | SROCC: -0.0463\n",
            "[Training] Epoch: 56 | MAE loss: 11.6306 | PCC: -0.0519 | SROCC: -0.0317\n",
            "[Testing]  Epoch: 56 | MAE loss: 12.3065 | PCC: -0.0275 | SROCC: -0.0463\n",
            "[Training] Epoch: 57 | MAE loss: 11.6307 | PCC: -0.1151 | SROCC: -0.1360\n",
            "[Testing]  Epoch: 57 | MAE loss: 12.3036 | PCC: -0.0275 | SROCC: -0.0463\n",
            "[Training] Epoch: 58 | MAE loss: 11.6263 | PCC: -0.2021 | SROCC: -0.2150\n",
            "[Testing]  Epoch: 58 | MAE loss: 12.3148 | PCC: -0.0275 | SROCC: -0.0463\n",
            "[Training] Epoch: 59 | MAE loss: 11.6320 | PCC: -0.1107 | SROCC: -0.1025\n",
            "[Testing]  Epoch: 59 | MAE loss: 12.2947 | PCC: -0.0275 | SROCC: -0.0463\n",
            "[Training] Epoch: 60 | MAE loss: 11.6285 | PCC: -0.1536 | SROCC: -0.1171\n",
            "[Testing]  Epoch: 60 | MAE loss: 12.3096 | PCC: -0.0275 | SROCC: -0.0463\n",
            "[Training] Epoch: 61 | MAE loss: 11.6283 | PCC: -0.3241 | SROCC: -0.3291\n",
            "[Testing]  Epoch: 61 | MAE loss: 12.3133 | PCC: -0.0275 | SROCC: -0.0463\n",
            "[Training] Epoch: 62 | MAE loss: 11.6294 | PCC: -0.2497 | SROCC: -0.2804\n",
            "[Testing]  Epoch: 62 | MAE loss: 12.3253 | PCC: -0.0275 | SROCC: -0.0463\n",
            "[Training] Epoch: 63 | MAE loss: 11.6273 | PCC: -0.1350 | SROCC: -0.1365\n",
            "[Testing]  Epoch: 63 | MAE loss: 12.3160 | PCC: -0.0275 | SROCC: -0.0463\n",
            "[Training] Epoch: 64 | MAE loss: 11.6285 | PCC: -0.1323 | SROCC: -0.1632\n",
            "[Testing]  Epoch: 64 | MAE loss: 12.3448 | PCC: -0.0275 | SROCC: -0.0463\n",
            "[Training] Epoch: 65 | MAE loss: 11.6346 | PCC: -0.1448 | SROCC: -0.1465\n",
            "[Testing]  Epoch: 65 | MAE loss: 12.2987 | PCC: -0.0275 | SROCC: -0.0463\n",
            "[Training] Epoch: 66 | MAE loss: 11.6289 | PCC: -0.1072 | SROCC: -0.0793\n",
            "[Testing]  Epoch: 66 | MAE loss: 12.3113 | PCC: -0.0275 | SROCC: -0.0463\n",
            "[Training] Epoch: 67 | MAE loss: 11.6260 | PCC: -0.1031 | SROCC: -0.1089\n",
            "[Testing]  Epoch: 67 | MAE loss: 12.3210 | PCC: -0.0275 | SROCC: -0.0463\n",
            "[Training] Epoch: 68 | MAE loss: 11.6283 | PCC: -0.0760 | SROCC: -0.0670\n",
            "[Testing]  Epoch: 68 | MAE loss: 12.3090 | PCC: -0.0275 | SROCC: -0.0463\n",
            "[Training] Epoch: 69 | MAE loss: 11.6268 | PCC: -0.1407 | SROCC: -0.1609\n",
            "[Testing]  Epoch: 69 | MAE loss: 12.3355 | PCC: -0.0275 | SROCC: -0.0463\n",
            "[Training] Epoch: 70 | MAE loss: 11.6315 | PCC: -0.1735 | SROCC: -0.1650\n",
            "[Testing]  Epoch: 70 | MAE loss: 12.3305 | PCC: -0.0275 | SROCC: -0.0463\n",
            "[Training] Epoch: 71 | MAE loss: 11.6217 | PCC: -0.1289 | SROCC: -0.1387\n",
            "[Testing]  Epoch: 71 | MAE loss: 12.3304 | PCC: -0.0275 | SROCC: -0.0463\n",
            "[Training] Epoch: 72 | MAE loss: 11.6269 | PCC: -0.1672 | SROCC: -0.1978\n",
            "[Testing]  Epoch: 72 | MAE loss: 12.3242 | PCC: -0.0275 | SROCC: -0.0463\n",
            "[Training] Epoch: 73 | MAE loss: 11.6276 | PCC: -0.0909 | SROCC: -0.0793\n",
            "[Testing]  Epoch: 73 | MAE loss: 12.3259 | PCC: -0.0275 | SROCC: -0.0463\n",
            "[Training] Epoch: 74 | MAE loss: 11.6218 | PCC: -0.1347 | SROCC: -0.1444\n",
            "[Testing]  Epoch: 74 | MAE loss: 12.3290 | PCC: -0.0275 | SROCC: -0.0463\n",
            "[Training] Epoch: 75 | MAE loss: 11.6232 | PCC: -0.0526 | SROCC: -0.0858\n",
            "[Testing]  Epoch: 75 | MAE loss: 12.3182 | PCC: -0.0275 | SROCC: -0.0463\n",
            "[Training] Epoch: 76 | MAE loss: 11.6279 | PCC: -0.2090 | SROCC: -0.2318\n",
            "[Testing]  Epoch: 76 | MAE loss: 12.3008 | PCC: -0.0275 | SROCC: -0.0463\n",
            "[Training] Epoch: 77 | MAE loss: 11.6305 | PCC: -0.1250 | SROCC: -0.1244\n",
            "[Testing]  Epoch: 77 | MAE loss: 12.3254 | PCC: -0.0275 | SROCC: -0.0463\n",
            "[Training] Epoch: 78 | MAE loss: 11.6267 | PCC: -0.2020 | SROCC: -0.2036\n",
            "[Testing]  Epoch: 78 | MAE loss: 12.3133 | PCC: -0.0275 | SROCC: -0.0463\n",
            "[Training] Epoch: 79 | MAE loss: 11.6244 | PCC: -0.1454 | SROCC: -0.2046\n",
            "[Testing]  Epoch: 79 | MAE loss: 12.3208 | PCC: -0.0275 | SROCC: -0.0463\n",
            "[Training] Epoch: 80 | MAE loss: 11.6292 | PCC: -0.1378 | SROCC: -0.1440\n",
            "[Testing]  Epoch: 80 | MAE loss: 12.3110 | PCC: -0.0275 | SROCC: -0.0463\n",
            "[Training] Epoch: 81 | MAE loss: 11.6257 | PCC: -0.1229 | SROCC: -0.1461\n",
            "[Testing]  Epoch: 81 | MAE loss: 12.3114 | PCC: -0.0275 | SROCC: -0.0463\n",
            "[Training] Epoch: 82 | MAE loss: 11.6239 | PCC: -0.2347 | SROCC: -0.2489\n",
            "[Testing]  Epoch: 82 | MAE loss: 12.3127 | PCC: -0.0275 | SROCC: -0.0463\n",
            "[Training] Epoch: 83 | MAE loss: 11.6270 | PCC: -0.0862 | SROCC: -0.0953\n",
            "[Testing]  Epoch: 83 | MAE loss: 12.3100 | PCC: -0.0275 | SROCC: -0.0463\n",
            "[Training] Epoch: 84 | MAE loss: 11.6263 | PCC: -0.1309 | SROCC: -0.1632\n",
            "[Testing]  Epoch: 84 | MAE loss: 12.3021 | PCC: -0.0275 | SROCC: -0.0463\n",
            "[Training] Epoch: 85 | MAE loss: 11.6269 | PCC: -0.1601 | SROCC: -0.1530\n",
            "[Testing]  Epoch: 85 | MAE loss: 12.3024 | PCC: -0.0275 | SROCC: -0.0463\n",
            "[Training] Epoch: 86 | MAE loss: 11.6240 | PCC: -0.1571 | SROCC: -0.1603\n",
            "[Testing]  Epoch: 86 | MAE loss: 12.2972 | PCC: -0.0275 | SROCC: -0.0463\n",
            "[Training] Epoch: 87 | MAE loss: 11.6259 | PCC: -0.0903 | SROCC: -0.1393\n",
            "[Testing]  Epoch: 87 | MAE loss: 12.3074 | PCC: -0.0275 | SROCC: -0.0463\n",
            "[Training] Epoch: 88 | MAE loss: 11.6247 | PCC: -0.0961 | SROCC: -0.1321\n",
            "[Testing]  Epoch: 88 | MAE loss: 12.3031 | PCC: -0.0275 | SROCC: -0.0463\n",
            "[Training] Epoch: 89 | MAE loss: 11.6324 | PCC: -0.0904 | SROCC: -0.0691\n",
            "[Testing]  Epoch: 89 | MAE loss: 12.3004 | PCC: -0.0275 | SROCC: -0.0463\n",
            "[Training] Epoch: 90 | MAE loss: 11.6256 | PCC: -0.1735 | SROCC: -0.1766\n",
            "[Testing]  Epoch: 90 | MAE loss: 12.2916 | PCC: -0.0275 | SROCC: -0.0463\n",
            "[Training] Epoch: 91 | MAE loss: 11.6287 | PCC: -0.0468 | SROCC: -0.0764\n",
            "[Testing]  Epoch: 91 | MAE loss: 12.2999 | PCC: -0.0275 | SROCC: -0.0463\n",
            "[Training] Epoch: 92 | MAE loss: 11.6277 | PCC: -0.1489 | SROCC: -0.1467\n",
            "[Testing]  Epoch: 92 | MAE loss: 12.2978 | PCC: -0.0275 | SROCC: -0.0463\n",
            "[Training] Epoch: 93 | MAE loss: 11.6277 | PCC: -0.0662 | SROCC: -0.0932\n",
            "[Testing]  Epoch: 93 | MAE loss: 12.3057 | PCC: -0.0275 | SROCC: -0.0463\n",
            "[Training] Epoch: 94 | MAE loss: 11.6260 | PCC: -0.1347 | SROCC: -0.1229\n",
            "[Testing]  Epoch: 94 | MAE loss: 12.3045 | PCC: -0.0275 | SROCC: -0.0463\n",
            "[Training] Epoch: 95 | MAE loss: 11.6287 | PCC: -0.0990 | SROCC: -0.1147\n",
            "[Testing]  Epoch: 95 | MAE loss: 12.3004 | PCC: -0.0275 | SROCC: -0.0463\n",
            "[Training] Epoch: 96 | MAE loss: 11.6255 | PCC: -0.0841 | SROCC: -0.0910\n",
            "[Testing]  Epoch: 96 | MAE loss: 12.3068 | PCC: -0.0275 | SROCC: -0.0463\n",
            "[Training] Epoch: 97 | MAE loss: 11.6249 | PCC: -0.1867 | SROCC: -0.1955\n",
            "[Testing]  Epoch: 97 | MAE loss: 12.2917 | PCC: -0.0275 | SROCC: -0.0463\n",
            "[Training] Epoch: 98 | MAE loss: 11.6286 | PCC: 0.0036 | SROCC: -0.0394\n",
            "[Testing]  Epoch: 98 | MAE loss: 12.3011 | PCC: -0.0275 | SROCC: -0.0463\n",
            "[Training] Epoch: 99 | MAE loss: 11.6221 | PCC: -0.0852 | SROCC: -0.0562\n",
            "[Testing]  Epoch: 99 | MAE loss: 12.3087 | PCC: -0.0275 | SROCC: -0.0463\n",
            "[Training] Epoch: 100 | MAE loss: 11.6235 | PCC: -0.1480 | SROCC: -0.1840\n",
            "[Testing]  Epoch: 100 | MAE loss: 12.3281 | PCC: -0.0275 | SROCC: -0.0463\n",
            "Total training time: 0:00:49 (Hour:Minute:Second)\n",
            "Total number of epochs: 100 - Total number of results: 100\n"
          ]
        }
      ]
    }
  ]
}